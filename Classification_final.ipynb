{
 "cells": [
  {
   "cell_type": "code",
   "execution_count": 1,
   "metadata": {},
   "outputs": [],
   "source": [
    "# First let us import all the different libraries that we need\n",
    "import pandas as pd\n",
    "import numpy as np\n",
    "import matplotlib.pyplot as plt\n",
    "import seaborn as sns"
   ]
  },
  {
   "cell_type": "markdown",
   "metadata": {},
   "source": [
    "#### Looking at the dataframe\n",
    "Let us look at the dataframe for a little bit of insight into the data"
   ]
  },
  {
   "cell_type": "code",
   "execution_count": 2,
   "metadata": {},
   "outputs": [
    {
     "data": {
      "text/html": [
       "<div>\n",
       "<style scoped>\n",
       "    .dataframe tbody tr th:only-of-type {\n",
       "        vertical-align: middle;\n",
       "    }\n",
       "\n",
       "    .dataframe tbody tr th {\n",
       "        vertical-align: top;\n",
       "    }\n",
       "\n",
       "    .dataframe thead th {\n",
       "        text-align: right;\n",
       "    }\n",
       "</style>\n",
       "<table border=\"1\" class=\"dataframe\">\n",
       "  <thead>\n",
       "    <tr style=\"text-align: right;\">\n",
       "      <th></th>\n",
       "      <th>index_x</th>\n",
       "      <th>ArrDel15</th>\n",
       "      <th>ArrDelayMinutes</th>\n",
       "      <th>ArrTime</th>\n",
       "      <th>CRSArrTime</th>\n",
       "      <th>CRSDepTime</th>\n",
       "      <th>DayofMonth</th>\n",
       "      <th>DepDel15</th>\n",
       "      <th>DepDelayMinutes</th>\n",
       "      <th>DepTime</th>\n",
       "      <th>...</th>\n",
       "      <th>pressure</th>\n",
       "      <th>cloudcover</th>\n",
       "      <th>DewPointF</th>\n",
       "      <th>WindGustKmph</th>\n",
       "      <th>tempF</th>\n",
       "      <th>WindChillF</th>\n",
       "      <th>humidity</th>\n",
       "      <th>time</th>\n",
       "      <th>date</th>\n",
       "      <th>airport</th>\n",
       "    </tr>\n",
       "  </thead>\n",
       "  <tbody>\n",
       "    <tr>\n",
       "      <th>0</th>\n",
       "      <td>0</td>\n",
       "      <td>0.0</td>\n",
       "      <td>8.0</td>\n",
       "      <td>1610.0</td>\n",
       "      <td>1602</td>\n",
       "      <td>745</td>\n",
       "      <td>1</td>\n",
       "      <td>0.0</td>\n",
       "      <td>0.0</td>\n",
       "      <td>741.0</td>\n",
       "      <td>...</td>\n",
       "      <td>1030</td>\n",
       "      <td>0</td>\n",
       "      <td>23</td>\n",
       "      <td>8</td>\n",
       "      <td>34</td>\n",
       "      <td>29</td>\n",
       "      <td>65</td>\n",
       "      <td>800</td>\n",
       "      <td>2016-01-01</td>\n",
       "      <td>SEA</td>\n",
       "    </tr>\n",
       "    <tr>\n",
       "      <th>1</th>\n",
       "      <td>12608</td>\n",
       "      <td>1.0</td>\n",
       "      <td>33.0</td>\n",
       "      <td>1237.0</td>\n",
       "      <td>1204</td>\n",
       "      <td>820</td>\n",
       "      <td>1</td>\n",
       "      <td>0.0</td>\n",
       "      <td>1.0</td>\n",
       "      <td>821.0</td>\n",
       "      <td>...</td>\n",
       "      <td>1030</td>\n",
       "      <td>0</td>\n",
       "      <td>23</td>\n",
       "      <td>8</td>\n",
       "      <td>34</td>\n",
       "      <td>29</td>\n",
       "      <td>65</td>\n",
       "      <td>800</td>\n",
       "      <td>2016-01-01</td>\n",
       "      <td>SEA</td>\n",
       "    </tr>\n",
       "    <tr>\n",
       "      <th>2</th>\n",
       "      <td>50768</td>\n",
       "      <td>0.0</td>\n",
       "      <td>0.0</td>\n",
       "      <td>1138.0</td>\n",
       "      <td>1143</td>\n",
       "      <td>759</td>\n",
       "      <td>1</td>\n",
       "      <td>0.0</td>\n",
       "      <td>0.0</td>\n",
       "      <td>754.0</td>\n",
       "      <td>...</td>\n",
       "      <td>1030</td>\n",
       "      <td>0</td>\n",
       "      <td>23</td>\n",
       "      <td>8</td>\n",
       "      <td>34</td>\n",
       "      <td>29</td>\n",
       "      <td>65</td>\n",
       "      <td>800</td>\n",
       "      <td>2016-01-01</td>\n",
       "      <td>SEA</td>\n",
       "    </tr>\n",
       "    <tr>\n",
       "      <th>3</th>\n",
       "      <td>51023</td>\n",
       "      <td>0.0</td>\n",
       "      <td>10.0</td>\n",
       "      <td>1401.0</td>\n",
       "      <td>1351</td>\n",
       "      <td>738</td>\n",
       "      <td>1</td>\n",
       "      <td>0.0</td>\n",
       "      <td>2.0</td>\n",
       "      <td>740.0</td>\n",
       "      <td>...</td>\n",
       "      <td>1030</td>\n",
       "      <td>0</td>\n",
       "      <td>23</td>\n",
       "      <td>8</td>\n",
       "      <td>34</td>\n",
       "      <td>29</td>\n",
       "      <td>65</td>\n",
       "      <td>800</td>\n",
       "      <td>2016-01-01</td>\n",
       "      <td>SEA</td>\n",
       "    </tr>\n",
       "    <tr>\n",
       "      <th>4</th>\n",
       "      <td>61167</td>\n",
       "      <td>0.0</td>\n",
       "      <td>0.0</td>\n",
       "      <td>1524.0</td>\n",
       "      <td>1527</td>\n",
       "      <td>745</td>\n",
       "      <td>1</td>\n",
       "      <td>0.0</td>\n",
       "      <td>0.0</td>\n",
       "      <td>742.0</td>\n",
       "      <td>...</td>\n",
       "      <td>1030</td>\n",
       "      <td>0</td>\n",
       "      <td>23</td>\n",
       "      <td>8</td>\n",
       "      <td>34</td>\n",
       "      <td>29</td>\n",
       "      <td>65</td>\n",
       "      <td>800</td>\n",
       "      <td>2016-01-01</td>\n",
       "      <td>SEA</td>\n",
       "    </tr>\n",
       "  </tbody>\n",
       "</table>\n",
       "<p>5 rows × 35 columns</p>\n",
       "</div>"
      ],
      "text/plain": [
       "   index_x  ArrDel15  ArrDelayMinutes  ArrTime  CRSArrTime  CRSDepTime  \\\n",
       "0        0       0.0              8.0   1610.0        1602         745   \n",
       "1    12608       1.0             33.0   1237.0        1204         820   \n",
       "2    50768       0.0              0.0   1138.0        1143         759   \n",
       "3    51023       0.0             10.0   1401.0        1351         738   \n",
       "4    61167       0.0              0.0   1524.0        1527         745   \n",
       "\n",
       "   DayofMonth  DepDel15  DepDelayMinutes  DepTime  ... pressure  cloudcover  \\\n",
       "0           1       0.0              0.0    741.0  ...     1030           0   \n",
       "1           1       0.0              1.0    821.0  ...     1030           0   \n",
       "2           1       0.0              0.0    754.0  ...     1030           0   \n",
       "3           1       0.0              2.0    740.0  ...     1030           0   \n",
       "4           1       0.0              0.0    742.0  ...     1030           0   \n",
       "\n",
       "  DewPointF  WindGustKmph tempF  WindChillF  humidity  time        date  \\\n",
       "0        23             8    34          29        65   800  2016-01-01   \n",
       "1        23             8    34          29        65   800  2016-01-01   \n",
       "2        23             8    34          29        65   800  2016-01-01   \n",
       "3        23             8    34          29        65   800  2016-01-01   \n",
       "4        23             8    34          29        65   800  2016-01-01   \n",
       "\n",
       "   airport  \n",
       "0      SEA  \n",
       "1      SEA  \n",
       "2      SEA  \n",
       "3      SEA  \n",
       "4      SEA  \n",
       "\n",
       "[5 rows x 35 columns]"
      ]
     },
     "execution_count": 2,
     "metadata": {},
     "output_type": "execute_result"
    }
   ],
   "source": [
    "# Readinbg the file \n",
    "df = pd.read_csv(r\"G:\\Hemant_Data\\DBDA_Project\\flight_data/Merged_Flight_Weather.csv\", index_col = 0)\n",
    "df.head()"
   ]
  },
  {
   "cell_type": "code",
   "execution_count": 3,
   "metadata": {},
   "outputs": [
    {
     "data": {
      "text/plain": [
       "Index(['index_x', 'ArrDel15', 'ArrDelayMinutes', 'ArrTime', 'CRSArrTime',\n",
       "       'CRSDepTime', 'DayofMonth', 'DepDel15', 'DepDelayMinutes', 'DepTime',\n",
       "       'Dest', 'DestAirportID', 'FlightDate', 'Month', 'Origin',\n",
       "       'OriginAirportID', 'Quarter', 'Year', 'DeptTime', 'index_y',\n",
       "       'windspeedKmph', 'winddirDegree', 'weatherCode', 'precipMM',\n",
       "       'visibility', 'pressure', 'cloudcover', 'DewPointF', 'WindGustKmph',\n",
       "       'tempF', 'WindChillF', 'humidity', 'time', 'date', 'airport'],\n",
       "      dtype='object')"
      ]
     },
     "execution_count": 3,
     "metadata": {},
     "output_type": "execute_result"
    }
   ],
   "source": [
    "df.columns"
   ]
  },
  {
   "cell_type": "code",
   "execution_count": 4,
   "metadata": {},
   "outputs": [
    {
     "data": {
      "text/plain": [
       "(1851091, 35)"
      ]
     },
     "execution_count": 4,
     "metadata": {},
     "output_type": "execute_result"
    }
   ],
   "source": [
    "# Now the shape of the dataframe\n",
    "df.shape"
   ]
  },
  {
   "cell_type": "code",
   "execution_count": 6,
   "metadata": {
    "scrolled": false
   },
   "outputs": [
    {
     "data": {
      "text/plain": [
       "index_x            0\n",
       "ArrDel15           0\n",
       "ArrDelayMinutes    0\n",
       "ArrTime            0\n",
       "CRSArrTime         0\n",
       "CRSDepTime         0\n",
       "DayofMonth         0\n",
       "DepDel15           0\n",
       "DepDelayMinutes    0\n",
       "DepTime            0\n",
       "Dest               0\n",
       "DestAirportID      0\n",
       "FlightDate         0\n",
       "Month              0\n",
       "Origin             0\n",
       "OriginAirportID    0\n",
       "Quarter            0\n",
       "Year               0\n",
       "DeptTime           0\n",
       "index_y            0\n",
       "windspeedKmph      0\n",
       "winddirDegree      0\n",
       "weatherCode        0\n",
       "precipMM           0\n",
       "visibility         0\n",
       "pressure           0\n",
       "cloudcover         0\n",
       "DewPointF          0\n",
       "WindGustKmph       0\n",
       "tempF              0\n",
       "WindChillF         0\n",
       "humidity           0\n",
       "time               0\n",
       "date               0\n",
       "airport            0\n",
       "dtype: int64"
      ]
     },
     "execution_count": 6,
     "metadata": {},
     "output_type": "execute_result"
    }
   ],
   "source": [
    "# Check for missing values\n",
    "df.isna().sum()"
   ]
  },
  {
   "cell_type": "code",
   "execution_count": 3,
   "metadata": {},
   "outputs": [
    {
     "data": {
      "text/html": [
       "<div>\n",
       "<style scoped>\n",
       "    .dataframe tbody tr th:only-of-type {\n",
       "        vertical-align: middle;\n",
       "    }\n",
       "\n",
       "    .dataframe tbody tr th {\n",
       "        vertical-align: top;\n",
       "    }\n",
       "\n",
       "    .dataframe thead th {\n",
       "        text-align: right;\n",
       "    }\n",
       "</style>\n",
       "<table border=\"1\" class=\"dataframe\">\n",
       "  <thead>\n",
       "    <tr style=\"text-align: right;\">\n",
       "      <th></th>\n",
       "      <th>ArrDel15</th>\n",
       "      <th>CRSArrTime</th>\n",
       "      <th>CRSDepTime</th>\n",
       "      <th>DayofMonth</th>\n",
       "      <th>DepDel15</th>\n",
       "      <th>DepDelayMinutes</th>\n",
       "      <th>DepTime</th>\n",
       "      <th>Dest</th>\n",
       "      <th>DestAirportID</th>\n",
       "      <th>Month</th>\n",
       "      <th>...</th>\n",
       "      <th>precipMM</th>\n",
       "      <th>visibility</th>\n",
       "      <th>pressure</th>\n",
       "      <th>cloudcover</th>\n",
       "      <th>DewPointF</th>\n",
       "      <th>WindGustKmph</th>\n",
       "      <th>tempF</th>\n",
       "      <th>WindChillF</th>\n",
       "      <th>humidity</th>\n",
       "      <th>airport</th>\n",
       "    </tr>\n",
       "  </thead>\n",
       "  <tbody>\n",
       "    <tr>\n",
       "      <th>0</th>\n",
       "      <td>0.0</td>\n",
       "      <td>1602</td>\n",
       "      <td>745</td>\n",
       "      <td>1</td>\n",
       "      <td>0.0</td>\n",
       "      <td>0.0</td>\n",
       "      <td>741.0</td>\n",
       "      <td>JFK</td>\n",
       "      <td>12478</td>\n",
       "      <td>1</td>\n",
       "      <td>...</td>\n",
       "      <td>0.0</td>\n",
       "      <td>10</td>\n",
       "      <td>1030</td>\n",
       "      <td>0</td>\n",
       "      <td>23</td>\n",
       "      <td>8</td>\n",
       "      <td>34</td>\n",
       "      <td>29</td>\n",
       "      <td>65</td>\n",
       "      <td>SEA</td>\n",
       "    </tr>\n",
       "    <tr>\n",
       "      <th>1</th>\n",
       "      <td>1.0</td>\n",
       "      <td>1204</td>\n",
       "      <td>820</td>\n",
       "      <td>1</td>\n",
       "      <td>0.0</td>\n",
       "      <td>1.0</td>\n",
       "      <td>821.0</td>\n",
       "      <td>PHX</td>\n",
       "      <td>14107</td>\n",
       "      <td>1</td>\n",
       "      <td>...</td>\n",
       "      <td>0.0</td>\n",
       "      <td>10</td>\n",
       "      <td>1030</td>\n",
       "      <td>0</td>\n",
       "      <td>23</td>\n",
       "      <td>8</td>\n",
       "      <td>34</td>\n",
       "      <td>29</td>\n",
       "      <td>65</td>\n",
       "      <td>SEA</td>\n",
       "    </tr>\n",
       "    <tr>\n",
       "      <th>2</th>\n",
       "      <td>0.0</td>\n",
       "      <td>1143</td>\n",
       "      <td>759</td>\n",
       "      <td>1</td>\n",
       "      <td>0.0</td>\n",
       "      <td>0.0</td>\n",
       "      <td>754.0</td>\n",
       "      <td>DEN</td>\n",
       "      <td>11292</td>\n",
       "      <td>1</td>\n",
       "      <td>...</td>\n",
       "      <td>0.0</td>\n",
       "      <td>10</td>\n",
       "      <td>1030</td>\n",
       "      <td>0</td>\n",
       "      <td>23</td>\n",
       "      <td>8</td>\n",
       "      <td>34</td>\n",
       "      <td>29</td>\n",
       "      <td>65</td>\n",
       "      <td>SEA</td>\n",
       "    </tr>\n",
       "    <tr>\n",
       "      <th>3</th>\n",
       "      <td>0.0</td>\n",
       "      <td>1351</td>\n",
       "      <td>738</td>\n",
       "      <td>1</td>\n",
       "      <td>0.0</td>\n",
       "      <td>2.0</td>\n",
       "      <td>740.0</td>\n",
       "      <td>IAH</td>\n",
       "      <td>12266</td>\n",
       "      <td>1</td>\n",
       "      <td>...</td>\n",
       "      <td>0.0</td>\n",
       "      <td>10</td>\n",
       "      <td>1030</td>\n",
       "      <td>0</td>\n",
       "      <td>23</td>\n",
       "      <td>8</td>\n",
       "      <td>34</td>\n",
       "      <td>29</td>\n",
       "      <td>65</td>\n",
       "      <td>SEA</td>\n",
       "    </tr>\n",
       "    <tr>\n",
       "      <th>4</th>\n",
       "      <td>0.0</td>\n",
       "      <td>1527</td>\n",
       "      <td>745</td>\n",
       "      <td>1</td>\n",
       "      <td>0.0</td>\n",
       "      <td>0.0</td>\n",
       "      <td>742.0</td>\n",
       "      <td>ATL</td>\n",
       "      <td>10397</td>\n",
       "      <td>1</td>\n",
       "      <td>...</td>\n",
       "      <td>0.0</td>\n",
       "      <td>10</td>\n",
       "      <td>1030</td>\n",
       "      <td>0</td>\n",
       "      <td>23</td>\n",
       "      <td>8</td>\n",
       "      <td>34</td>\n",
       "      <td>29</td>\n",
       "      <td>65</td>\n",
       "      <td>SEA</td>\n",
       "    </tr>\n",
       "  </tbody>\n",
       "</table>\n",
       "<p>5 rows × 27 columns</p>\n",
       "</div>"
      ],
      "text/plain": [
       "   ArrDel15  CRSArrTime  CRSDepTime  DayofMonth  DepDel15  DepDelayMinutes  \\\n",
       "0       0.0        1602         745           1       0.0              0.0   \n",
       "1       1.0        1204         820           1       0.0              1.0   \n",
       "2       0.0        1143         759           1       0.0              0.0   \n",
       "3       0.0        1351         738           1       0.0              2.0   \n",
       "4       0.0        1527         745           1       0.0              0.0   \n",
       "\n",
       "   DepTime Dest  DestAirportID  Month  ... precipMM  visibility  pressure  \\\n",
       "0    741.0  JFK          12478      1  ...      0.0          10      1030   \n",
       "1    821.0  PHX          14107      1  ...      0.0          10      1030   \n",
       "2    754.0  DEN          11292      1  ...      0.0          10      1030   \n",
       "3    740.0  IAH          12266      1  ...      0.0          10      1030   \n",
       "4    742.0  ATL          10397      1  ...      0.0          10      1030   \n",
       "\n",
       "   cloudcover  DewPointF  WindGustKmph  tempF  WindChillF  humidity  airport  \n",
       "0           0         23             8     34          29        65      SEA  \n",
       "1           0         23             8     34          29        65      SEA  \n",
       "2           0         23             8     34          29        65      SEA  \n",
       "3           0         23             8     34          29        65      SEA  \n",
       "4           0         23             8     34          29        65      SEA  \n",
       "\n",
       "[5 rows x 27 columns]"
      ]
     },
     "execution_count": 3,
     "metadata": {},
     "output_type": "execute_result"
    }
   ],
   "source": [
    "# Here we drop all the columns we don't need for our classification\n",
    "df = df.drop(columns=['index_x', 'time', 'date', 'FlightDate', 'index_y', 'DeptTime','ArrDelayMinutes', \n",
    "                      'ArrTime'])\n",
    "df.head()"
   ]
  },
  {
   "cell_type": "code",
   "execution_count": 6,
   "metadata": {},
   "outputs": [
    {
     "data": {
      "text/plain": [
       "Index(['ArrDel15', 'CRSArrTime', 'CRSDepTime', 'DayofMonth', 'DepDel15',\n",
       "       'DepDelayMinutes', 'DepTime', 'Dest', 'DestAirportID', 'Month',\n",
       "       'Origin', 'OriginAirportID', 'Quarter', 'Year', 'windspeedKmph',\n",
       "       'winddirDegree', 'weatherCode', 'precipMM', 'visibility', 'pressure',\n",
       "       'cloudcover', 'DewPointF', 'WindGustKmph', 'tempF', 'WindChillF',\n",
       "       'humidity', 'airport'],\n",
       "      dtype='object')"
      ]
     },
     "execution_count": 6,
     "metadata": {},
     "output_type": "execute_result"
    }
   ],
   "source": [
    "# Looking at the new features\n",
    "df.columns"
   ]
  },
  {
   "cell_type": "code",
   "execution_count": 7,
   "metadata": {},
   "outputs": [
    {
     "data": {
      "text/plain": [
       "(1851091, 27)"
      ]
     },
     "execution_count": 7,
     "metadata": {},
     "output_type": "execute_result"
    }
   ],
   "source": [
    "df.shape"
   ]
  },
  {
   "cell_type": "code",
   "execution_count": 4,
   "metadata": {},
   "outputs": [
    {
     "data": {
      "text/plain": [
       "93"
      ]
     },
     "execution_count": 4,
     "metadata": {},
     "output_type": "execute_result"
    }
   ],
   "source": [
    "df.duplicated().sum()"
   ]
  },
  {
   "cell_type": "code",
   "execution_count": 5,
   "metadata": {},
   "outputs": [
    {
     "data": {
      "text/plain": [
       "(1850998, 27)"
      ]
     },
     "execution_count": 5,
     "metadata": {},
     "output_type": "execute_result"
    }
   ],
   "source": [
    "df.drop_duplicates(inplace=True)\n",
    "df.shape"
   ]
  },
  {
   "cell_type": "markdown",
   "metadata": {},
   "source": [
    "### Label Encoding using cat.codes\n",
    "Label Encoding refers to converting the labels into numeric form so as to convert it into the machine-readable form. Machine learning algorithms can then decide in a better way on how those labels must be operated. It is an important pre-processing step for the structured dataset in supervised learning.\n",
    "Here we are label encoding the `Origin` and the `airport` features, by first converting them to category type and then using `cat.codes`"
   ]
  },
  {
   "cell_type": "code",
   "execution_count": 10,
   "metadata": {},
   "outputs": [
    {
     "data": {
      "text/plain": [
       "ArrDel15           float64\n",
       "CRSArrTime           int64\n",
       "CRSDepTime           int64\n",
       "DayofMonth           int64\n",
       "DepDel15           float64\n",
       "DepDelayMinutes    float64\n",
       "DepTime            float64\n",
       "Dest                object\n",
       "DestAirportID        int64\n",
       "Month                int64\n",
       "Origin              object\n",
       "OriginAirportID      int64\n",
       "Quarter              int64\n",
       "Year                 int64\n",
       "windspeedKmph        int64\n",
       "winddirDegree        int64\n",
       "weatherCode          int64\n",
       "precipMM           float64\n",
       "visibility           int64\n",
       "pressure             int64\n",
       "cloudcover           int64\n",
       "DewPointF            int64\n",
       "WindGustKmph         int64\n",
       "tempF                int64\n",
       "WindChillF           int64\n",
       "humidity             int64\n",
       "airport             object\n",
       "dtype: object"
      ]
     },
     "execution_count": 10,
     "metadata": {},
     "output_type": "execute_result"
    }
   ],
   "source": [
    "df.dtypes"
   ]
  },
  {
   "cell_type": "code",
   "execution_count": 6,
   "metadata": {
    "scrolled": false
   },
   "outputs": [
    {
     "data": {
      "text/plain": [
       "ArrDel15            float64\n",
       "CRSArrTime            int64\n",
       "CRSDepTime            int64\n",
       "DayofMonth            int64\n",
       "DepDel15            float64\n",
       "DepDelayMinutes     float64\n",
       "DepTime             float64\n",
       "Dest               category\n",
       "DestAirportID         int64\n",
       "Month                 int64\n",
       "Origin             category\n",
       "OriginAirportID       int64\n",
       "Quarter               int64\n",
       "Year                  int64\n",
       "windspeedKmph         int64\n",
       "winddirDegree         int64\n",
       "weatherCode           int64\n",
       "precipMM            float64\n",
       "visibility            int64\n",
       "pressure              int64\n",
       "cloudcover            int64\n",
       "DewPointF             int64\n",
       "WindGustKmph          int64\n",
       "tempF                 int64\n",
       "WindChillF            int64\n",
       "humidity              int64\n",
       "airport            category\n",
       "dtype: object"
      ]
     },
     "execution_count": 6,
     "metadata": {},
     "output_type": "execute_result"
    }
   ],
   "source": [
    "df[\"Origin\"] = df[\"Origin\"].astype('category')\n",
    "df[\"airport\"] = df[\"airport\"].astype('category')\n",
    "df[\"Dest\"] = df[\"Dest\"].astype('category')\n",
    "# To see if our features have convered to category\n",
    "df.dtypes"
   ]
  },
  {
   "cell_type": "markdown",
   "metadata": {},
   "source": [
    "As you can see those both Origin and airport have been converted into category type"
   ]
  },
  {
   "cell_type": "code",
   "execution_count": 31,
   "metadata": {},
   "outputs": [],
   "source": [
    "s = pd.Series([\"a\", \"b\", \"c\",\"d\",\"e\"], dtype=\"category\")"
   ]
  },
  {
   "cell_type": "code",
   "execution_count": 32,
   "metadata": {},
   "outputs": [
    {
     "data": {
      "text/plain": [
       "0    0\n",
       "1    1\n",
       "2    2\n",
       "3    3\n",
       "4    4\n",
       "dtype: int8"
      ]
     },
     "execution_count": 32,
     "metadata": {},
     "output_type": "execute_result"
    }
   ],
   "source": [
    "s.cat.codes"
   ]
  },
  {
   "cell_type": "code",
   "execution_count": 33,
   "metadata": {},
   "outputs": [
    {
     "data": {
      "text/plain": [
       "CategoricalDtype(categories=['a', 'b', 'c', 'd', 'e'], ordered=False)"
      ]
     },
     "execution_count": 33,
     "metadata": {},
     "output_type": "execute_result"
    }
   ],
   "source": [
    "s.dtypes"
   ]
  },
  {
   "cell_type": "code",
   "execution_count": null,
   "metadata": {},
   "outputs": [],
   "source": [
    "df.Origin.cat.codes"
   ]
  },
  {
   "cell_type": "code",
   "execution_count": 7,
   "metadata": {
    "scrolled": true
   },
   "outputs": [
    {
     "data": {
      "text/html": [
       "<div>\n",
       "<style scoped>\n",
       "    .dataframe tbody tr th:only-of-type {\n",
       "        vertical-align: middle;\n",
       "    }\n",
       "\n",
       "    .dataframe tbody tr th {\n",
       "        vertical-align: top;\n",
       "    }\n",
       "\n",
       "    .dataframe thead th {\n",
       "        text-align: right;\n",
       "    }\n",
       "</style>\n",
       "<table border=\"1\" class=\"dataframe\">\n",
       "  <thead>\n",
       "    <tr style=\"text-align: right;\">\n",
       "      <th></th>\n",
       "      <th>ArrDel15</th>\n",
       "      <th>CRSArrTime</th>\n",
       "      <th>CRSDepTime</th>\n",
       "      <th>DayofMonth</th>\n",
       "      <th>DepDel15</th>\n",
       "      <th>DepDelayMinutes</th>\n",
       "      <th>DepTime</th>\n",
       "      <th>Dest</th>\n",
       "      <th>DestAirportID</th>\n",
       "      <th>Month</th>\n",
       "      <th>...</th>\n",
       "      <th>precipMM</th>\n",
       "      <th>visibility</th>\n",
       "      <th>pressure</th>\n",
       "      <th>cloudcover</th>\n",
       "      <th>DewPointF</th>\n",
       "      <th>WindGustKmph</th>\n",
       "      <th>tempF</th>\n",
       "      <th>WindChillF</th>\n",
       "      <th>humidity</th>\n",
       "      <th>airport</th>\n",
       "    </tr>\n",
       "  </thead>\n",
       "  <tbody>\n",
       "    <tr>\n",
       "      <th>0</th>\n",
       "      <td>0.0</td>\n",
       "      <td>1602</td>\n",
       "      <td>745</td>\n",
       "      <td>1</td>\n",
       "      <td>0.0</td>\n",
       "      <td>0.0</td>\n",
       "      <td>741.0</td>\n",
       "      <td>6</td>\n",
       "      <td>12478</td>\n",
       "      <td>1</td>\n",
       "      <td>...</td>\n",
       "      <td>0.0</td>\n",
       "      <td>10</td>\n",
       "      <td>1030</td>\n",
       "      <td>0</td>\n",
       "      <td>23</td>\n",
       "      <td>8</td>\n",
       "      <td>34</td>\n",
       "      <td>29</td>\n",
       "      <td>65</td>\n",
       "      <td>13</td>\n",
       "    </tr>\n",
       "    <tr>\n",
       "      <th>1</th>\n",
       "      <td>1.0</td>\n",
       "      <td>1204</td>\n",
       "      <td>820</td>\n",
       "      <td>1</td>\n",
       "      <td>0.0</td>\n",
       "      <td>1.0</td>\n",
       "      <td>821.0</td>\n",
       "      <td>12</td>\n",
       "      <td>14107</td>\n",
       "      <td>1</td>\n",
       "      <td>...</td>\n",
       "      <td>0.0</td>\n",
       "      <td>10</td>\n",
       "      <td>1030</td>\n",
       "      <td>0</td>\n",
       "      <td>23</td>\n",
       "      <td>8</td>\n",
       "      <td>34</td>\n",
       "      <td>29</td>\n",
       "      <td>65</td>\n",
       "      <td>13</td>\n",
       "    </tr>\n",
       "    <tr>\n",
       "      <th>2</th>\n",
       "      <td>0.0</td>\n",
       "      <td>1143</td>\n",
       "      <td>759</td>\n",
       "      <td>1</td>\n",
       "      <td>0.0</td>\n",
       "      <td>0.0</td>\n",
       "      <td>754.0</td>\n",
       "      <td>2</td>\n",
       "      <td>11292</td>\n",
       "      <td>1</td>\n",
       "      <td>...</td>\n",
       "      <td>0.0</td>\n",
       "      <td>10</td>\n",
       "      <td>1030</td>\n",
       "      <td>0</td>\n",
       "      <td>23</td>\n",
       "      <td>8</td>\n",
       "      <td>34</td>\n",
       "      <td>29</td>\n",
       "      <td>65</td>\n",
       "      <td>13</td>\n",
       "    </tr>\n",
       "    <tr>\n",
       "      <th>3</th>\n",
       "      <td>0.0</td>\n",
       "      <td>1351</td>\n",
       "      <td>738</td>\n",
       "      <td>1</td>\n",
       "      <td>0.0</td>\n",
       "      <td>2.0</td>\n",
       "      <td>740.0</td>\n",
       "      <td>5</td>\n",
       "      <td>12266</td>\n",
       "      <td>1</td>\n",
       "      <td>...</td>\n",
       "      <td>0.0</td>\n",
       "      <td>10</td>\n",
       "      <td>1030</td>\n",
       "      <td>0</td>\n",
       "      <td>23</td>\n",
       "      <td>8</td>\n",
       "      <td>34</td>\n",
       "      <td>29</td>\n",
       "      <td>65</td>\n",
       "      <td>13</td>\n",
       "    </tr>\n",
       "    <tr>\n",
       "      <th>4</th>\n",
       "      <td>0.0</td>\n",
       "      <td>1527</td>\n",
       "      <td>745</td>\n",
       "      <td>1</td>\n",
       "      <td>0.0</td>\n",
       "      <td>0.0</td>\n",
       "      <td>742.0</td>\n",
       "      <td>0</td>\n",
       "      <td>10397</td>\n",
       "      <td>1</td>\n",
       "      <td>...</td>\n",
       "      <td>0.0</td>\n",
       "      <td>10</td>\n",
       "      <td>1030</td>\n",
       "      <td>0</td>\n",
       "      <td>23</td>\n",
       "      <td>8</td>\n",
       "      <td>34</td>\n",
       "      <td>29</td>\n",
       "      <td>65</td>\n",
       "      <td>13</td>\n",
       "    </tr>\n",
       "  </tbody>\n",
       "</table>\n",
       "<p>5 rows × 27 columns</p>\n",
       "</div>"
      ],
      "text/plain": [
       "   ArrDel15  CRSArrTime  CRSDepTime  DayofMonth  DepDel15  DepDelayMinutes  \\\n",
       "0       0.0        1602         745           1       0.0              0.0   \n",
       "1       1.0        1204         820           1       0.0              1.0   \n",
       "2       0.0        1143         759           1       0.0              0.0   \n",
       "3       0.0        1351         738           1       0.0              2.0   \n",
       "4       0.0        1527         745           1       0.0              0.0   \n",
       "\n",
       "   DepTime  Dest  DestAirportID  Month  ...  precipMM  visibility  pressure  \\\n",
       "0    741.0     6          12478      1  ...       0.0          10      1030   \n",
       "1    821.0    12          14107      1  ...       0.0          10      1030   \n",
       "2    754.0     2          11292      1  ...       0.0          10      1030   \n",
       "3    740.0     5          12266      1  ...       0.0          10      1030   \n",
       "4    742.0     0          10397      1  ...       0.0          10      1030   \n",
       "\n",
       "   cloudcover  DewPointF  WindGustKmph  tempF  WindChillF  humidity  airport  \n",
       "0           0         23             8     34          29        65       13  \n",
       "1           0         23             8     34          29        65       13  \n",
       "2           0         23             8     34          29        65       13  \n",
       "3           0         23             8     34          29        65       13  \n",
       "4           0         23             8     34          29        65       13  \n",
       "\n",
       "[5 rows x 27 columns]"
      ]
     },
     "execution_count": 7,
     "metadata": {},
     "output_type": "execute_result"
    }
   ],
   "source": [
    "df[\"Origin\"] = df[\"Origin\"].cat.codes\n",
    "df[\"airport\"] = df[\"airport\"].cat.codes\n",
    "df[\"Dest\"] = df[\"Dest\"].cat.codes\n",
    "df.head()"
   ]
  },
  {
   "cell_type": "code",
   "execution_count": 35,
   "metadata": {},
   "outputs": [
    {
     "data": {
      "text/plain": [
       "dtype('int8')"
      ]
     },
     "execution_count": 35,
     "metadata": {},
     "output_type": "execute_result"
    }
   ],
   "source": [
    "df['airport'].dtypes"
   ]
  },
  {
   "cell_type": "code",
   "execution_count": 19,
   "metadata": {},
   "outputs": [
    {
     "data": {
      "text/plain": [
       "ArrDel15           float64\n",
       "CRSArrTime           int64\n",
       "CRSDepTime           int64\n",
       "DayofMonth           int64\n",
       "DepDel15           float64\n",
       "DepDelayMinutes    float64\n",
       "DepTime            float64\n",
       "Dest                  int8\n",
       "DestAirportID        int64\n",
       "Month                int64\n",
       "Origin                int8\n",
       "OriginAirportID      int64\n",
       "Quarter              int64\n",
       "Year                 int64\n",
       "windspeedKmph        int64\n",
       "winddirDegree        int64\n",
       "weatherCode          int64\n",
       "precipMM           float64\n",
       "visibility           int64\n",
       "pressure             int64\n",
       "cloudcover           int64\n",
       "DewPointF            int64\n",
       "WindGustKmph         int64\n",
       "tempF                int64\n",
       "WindChillF           int64\n",
       "humidity             int64\n",
       "airport               int8\n",
       "dtype: object"
      ]
     },
     "execution_count": 19,
     "metadata": {},
     "output_type": "execute_result"
    }
   ],
   "source": [
    "df.dtypes"
   ]
  },
  {
   "cell_type": "code",
   "execution_count": 36,
   "metadata": {
    "scrolled": true
   },
   "outputs": [
    {
     "data": {
      "text/plain": [
       "8     209299\n",
       "14    166915\n",
       "11    153436\n",
       "0     146719\n",
       "2     144147\n",
       "7     132148\n",
       "3     125900\n",
       "13    115701\n",
       "12    114007\n",
       "4     100167\n",
       "9      99559\n",
       "6      93423\n",
       "5      89551\n",
       "1      83486\n",
       "10     76540\n",
       "Name: Origin, dtype: int64"
      ]
     },
     "execution_count": 36,
     "metadata": {},
     "output_type": "execute_result"
    }
   ],
   "source": [
    "df.Origin.value_counts()"
   ]
  },
  {
   "cell_type": "code",
   "execution_count": 39,
   "metadata": {},
   "outputs": [
    {
     "data": {
      "text/plain": [
       "8     209299\n",
       "14    166915\n",
       "11    153436\n",
       "0     146719\n",
       "2     144147\n",
       "7     132148\n",
       "3     125900\n",
       "13    115701\n",
       "12    114007\n",
       "4     100167\n",
       "9      99559\n",
       "6      93423\n",
       "5      89551\n",
       "1      83486\n",
       "10     76540\n",
       "Name: airport, dtype: int64"
      ]
     },
     "execution_count": 39,
     "metadata": {},
     "output_type": "execute_result"
    }
   ],
   "source": [
    "df.airport.value_counts()"
   ]
  },
  {
   "cell_type": "code",
   "execution_count": 40,
   "metadata": {
    "scrolled": false
   },
   "outputs": [
    {
     "data": {
      "text/plain": [
       "Index(['ArrDel15', 'CRSArrTime', 'CRSDepTime', 'DayofMonth', 'DepDel15',\n",
       "       'DepDelayMinutes', 'DepTime', 'Dest', 'DestAirportID', 'Month',\n",
       "       'Origin', 'OriginAirportID', 'Quarter', 'Year', 'windspeedKmph',\n",
       "       'winddirDegree', 'weatherCode', 'precipMM', 'visibility', 'pressure',\n",
       "       'cloudcover', 'DewPointF', 'WindGustKmph', 'tempF', 'WindChillF',\n",
       "       'humidity', 'airport'],\n",
       "      dtype='object')"
      ]
     },
     "execution_count": 40,
     "metadata": {},
     "output_type": "execute_result"
    }
   ],
   "source": [
    "df.columns"
   ]
  },
  {
   "cell_type": "markdown",
   "metadata": {},
   "source": [
    "Another way for label encoding is to use `sklearn.preprocessing.LabelEncoder` : [LOOKUP](https://scikit-learn.org/stable/modules/generated/sklearn.preprocessing.LabelEncoder.html)"
   ]
  },
  {
   "cell_type": "markdown",
   "metadata": {},
   "source": [
    "##### Feature exploration\n",
    "Since there are no missing values or categorical variables we can continue further and look at the corellation between various features of the dataframe"
   ]
  },
  {
   "cell_type": "code",
   "execution_count": 41,
   "metadata": {
    "scrolled": false
   },
   "outputs": [
    {
     "data": {
      "image/png": "[encoded data removed]",
      "text/plain": [
       "<Figure size 1800x1800 with 2 Axes>"
      ]
     },
     "metadata": {
      "needs_background": "light"
     },
     "output_type": "display_data"
    }
   ],
   "source": [
    "plt.figure(figsize=(25,25))\n",
    "cor = df.corr()\n",
    "sns.heatmap(cor, annot=True, cmap='Blues')\n",
    "plt.show()"
   ]
  },
  {
   "cell_type": "code",
   "execution_count": 42,
   "metadata": {
    "scrolled": false
   },
   "outputs": [
    {
     "data": {
      "text/html": [
       "<div>\n",
       "<style scoped>\n",
       "    .dataframe tbody tr th:only-of-type {\n",
       "        vertical-align: middle;\n",
       "    }\n",
       "\n",
       "    .dataframe tbody tr th {\n",
       "        vertical-align: top;\n",
       "    }\n",
       "\n",
       "    .dataframe thead th {\n",
       "        text-align: right;\n",
       "    }\n",
       "</style>\n",
       "<table border=\"1\" class=\"dataframe\">\n",
       "  <thead>\n",
       "    <tr style=\"text-align: right;\">\n",
       "      <th></th>\n",
       "      <th>ArrDel15</th>\n",
       "      <th>CRSArrTime</th>\n",
       "      <th>CRSDepTime</th>\n",
       "      <th>DayofMonth</th>\n",
       "      <th>DepDel15</th>\n",
       "      <th>DepDelayMinutes</th>\n",
       "      <th>DepTime</th>\n",
       "      <th>Dest</th>\n",
       "      <th>DestAirportID</th>\n",
       "      <th>Month</th>\n",
       "      <th>...</th>\n",
       "      <th>precipMM</th>\n",
       "      <th>visibility</th>\n",
       "      <th>pressure</th>\n",
       "      <th>cloudcover</th>\n",
       "      <th>DewPointF</th>\n",
       "      <th>WindGustKmph</th>\n",
       "      <th>tempF</th>\n",
       "      <th>WindChillF</th>\n",
       "      <th>humidity</th>\n",
       "      <th>airport</th>\n",
       "    </tr>\n",
       "  </thead>\n",
       "  <tbody>\n",
       "    <tr>\n",
       "      <th>ArrDel15</th>\n",
       "      <td>1.000000</td>\n",
       "      <td>0.110601</td>\n",
       "      <td>0.127240</td>\n",
       "      <td>-0.007595</td>\n",
       "      <td>0.710538</td>\n",
       "      <td>0.546142</td>\n",
       "      <td>0.154322</td>\n",
       "      <td>0.051256</td>\n",
       "      <td>0.048184</td>\n",
       "      <td>-0.023368</td>\n",
       "      <td>...</td>\n",
       "      <td>0.088449</td>\n",
       "      <td>-0.021842</td>\n",
       "      <td>-0.073886</td>\n",
       "      <td>0.037856</td>\n",
       "      <td>0.038140</td>\n",
       "      <td>0.080309</td>\n",
       "      <td>0.035390</td>\n",
       "      <td>0.031992</td>\n",
       "      <td>-0.000720</td>\n",
       "      <td>0.020761</td>\n",
       "    </tr>\n",
       "    <tr>\n",
       "      <th>CRSArrTime</th>\n",
       "      <td>0.110601</td>\n",
       "      <td>1.000000</td>\n",
       "      <td>0.487270</td>\n",
       "      <td>-0.001902</td>\n",
       "      <td>0.118568</td>\n",
       "      <td>0.086941</td>\n",
       "      <td>0.513784</td>\n",
       "      <td>0.009244</td>\n",
       "      <td>0.010097</td>\n",
       "      <td>-0.004749</td>\n",
       "      <td>...</td>\n",
       "      <td>0.030528</td>\n",
       "      <td>0.091271</td>\n",
       "      <td>-0.060437</td>\n",
       "      <td>-0.032332</td>\n",
       "      <td>0.006619</td>\n",
       "      <td>0.090938</td>\n",
       "      <td>0.141935</td>\n",
       "      <td>0.132120</td>\n",
       "      <td>-0.204943</td>\n",
       "      <td>-0.024607</td>\n",
       "    </tr>\n",
       "    <tr>\n",
       "      <th>CRSDepTime</th>\n",
       "      <td>0.127240</td>\n",
       "      <td>0.487270</td>\n",
       "      <td>1.000000</td>\n",
       "      <td>0.000354</td>\n",
       "      <td>0.154985</td>\n",
       "      <td>0.104760</td>\n",
       "      <td>0.934008</td>\n",
       "      <td>0.061127</td>\n",
       "      <td>0.062914</td>\n",
       "      <td>-0.001498</td>\n",
       "      <td>...</td>\n",
       "      <td>0.032850</td>\n",
       "      <td>0.105889</td>\n",
       "      <td>-0.077368</td>\n",
       "      <td>-0.057288</td>\n",
       "      <td>0.030099</td>\n",
       "      <td>0.115164</td>\n",
       "      <td>0.146884</td>\n",
       "      <td>0.147577</td>\n",
       "      <td>-0.191055</td>\n",
       "      <td>-0.044655</td>\n",
       "    </tr>\n",
       "    <tr>\n",
       "      <th>DayofMonth</th>\n",
       "      <td>-0.007595</td>\n",
       "      <td>-0.001902</td>\n",
       "      <td>0.000354</td>\n",
       "      <td>1.000000</td>\n",
       "      <td>-0.007067</td>\n",
       "      <td>-0.006684</td>\n",
       "      <td>-0.000778</td>\n",
       "      <td>0.000443</td>\n",
       "      <td>0.000318</td>\n",
       "      <td>0.010127</td>\n",
       "      <td>...</td>\n",
       "      <td>-0.001259</td>\n",
       "      <td>0.025225</td>\n",
       "      <td>-0.032988</td>\n",
       "      <td>-0.015192</td>\n",
       "      <td>0.018075</td>\n",
       "      <td>0.006418</td>\n",
       "      <td>0.016331</td>\n",
       "      <td>0.015826</td>\n",
       "      <td>-0.001185</td>\n",
       "      <td>-0.000008</td>\n",
       "    </tr>\n",
       "    <tr>\n",
       "      <th>DepDel15</th>\n",
       "      <td>0.710538</td>\n",
       "      <td>0.118568</td>\n",
       "      <td>0.154985</td>\n",
       "      <td>-0.007067</td>\n",
       "      <td>1.000000</td>\n",
       "      <td>0.608080</td>\n",
       "      <td>0.183905</td>\n",
       "      <td>0.033684</td>\n",
       "      <td>0.031411</td>\n",
       "      <td>-0.021137</td>\n",
       "      <td>...</td>\n",
       "      <td>0.080523</td>\n",
       "      <td>-0.012637</td>\n",
       "      <td>-0.060215</td>\n",
       "      <td>0.029351</td>\n",
       "      <td>0.036910</td>\n",
       "      <td>0.072551</td>\n",
       "      <td>0.036078</td>\n",
       "      <td>0.033097</td>\n",
       "      <td>-0.005634</td>\n",
       "      <td>0.014527</td>\n",
       "    </tr>\n",
       "    <tr>\n",
       "      <th>DepDelayMinutes</th>\n",
       "      <td>0.546142</td>\n",
       "      <td>0.086941</td>\n",
       "      <td>0.104760</td>\n",
       "      <td>-0.006684</td>\n",
       "      <td>0.608080</td>\n",
       "      <td>1.000000</td>\n",
       "      <td>0.127716</td>\n",
       "      <td>0.019076</td>\n",
       "      <td>0.016701</td>\n",
       "      <td>-0.017678</td>\n",
       "      <td>...</td>\n",
       "      <td>0.081938</td>\n",
       "      <td>-0.019312</td>\n",
       "      <td>-0.052188</td>\n",
       "      <td>0.031330</td>\n",
       "      <td>0.038023</td>\n",
       "      <td>0.071245</td>\n",
       "      <td>0.029618</td>\n",
       "      <td>0.027397</td>\n",
       "      <td>0.004276</td>\n",
       "      <td>0.008607</td>\n",
       "    </tr>\n",
       "    <tr>\n",
       "      <th>DepTime</th>\n",
       "      <td>0.154322</td>\n",
       "      <td>0.513784</td>\n",
       "      <td>0.934008</td>\n",
       "      <td>-0.000778</td>\n",
       "      <td>0.183905</td>\n",
       "      <td>0.127716</td>\n",
       "      <td>1.000000</td>\n",
       "      <td>0.061829</td>\n",
       "      <td>0.063417</td>\n",
       "      <td>-0.003646</td>\n",
       "      <td>...</td>\n",
       "      <td>0.036953</td>\n",
       "      <td>0.102774</td>\n",
       "      <td>-0.075025</td>\n",
       "      <td>-0.053260</td>\n",
       "      <td>0.031685</td>\n",
       "      <td>0.118263</td>\n",
       "      <td>0.150887</td>\n",
       "      <td>0.149695</td>\n",
       "      <td>-0.193531</td>\n",
       "      <td>-0.045355</td>\n",
       "    </tr>\n",
       "    <tr>\n",
       "      <th>Dest</th>\n",
       "      <td>0.051256</td>\n",
       "      <td>0.009244</td>\n",
       "      <td>0.061127</td>\n",
       "      <td>0.000443</td>\n",
       "      <td>0.033684</td>\n",
       "      <td>0.019076</td>\n",
       "      <td>0.061829</td>\n",
       "      <td>1.000000</td>\n",
       "      <td>0.993752</td>\n",
       "      <td>0.002829</td>\n",
       "      <td>...</td>\n",
       "      <td>-0.008627</td>\n",
       "      <td>0.011786</td>\n",
       "      <td>-0.025933</td>\n",
       "      <td>-0.011573</td>\n",
       "      <td>-0.056142</td>\n",
       "      <td>0.004310</td>\n",
       "      <td>-0.032813</td>\n",
       "      <td>-0.031766</td>\n",
       "      <td>-0.021616</td>\n",
       "      <td>-0.040610</td>\n",
       "    </tr>\n",
       "    <tr>\n",
       "      <th>DestAirportID</th>\n",
       "      <td>0.048184</td>\n",
       "      <td>0.010097</td>\n",
       "      <td>0.062914</td>\n",
       "      <td>0.000318</td>\n",
       "      <td>0.031411</td>\n",
       "      <td>0.016701</td>\n",
       "      <td>0.063417</td>\n",
       "      <td>0.993752</td>\n",
       "      <td>1.000000</td>\n",
       "      <td>0.003311</td>\n",
       "      <td>...</td>\n",
       "      <td>-0.010310</td>\n",
       "      <td>0.013525</td>\n",
       "      <td>-0.028700</td>\n",
       "      <td>-0.013609</td>\n",
       "      <td>-0.055773</td>\n",
       "      <td>0.001647</td>\n",
       "      <td>-0.029950</td>\n",
       "      <td>-0.028669</td>\n",
       "      <td>-0.023853</td>\n",
       "      <td>-0.033152</td>\n",
       "    </tr>\n",
       "    <tr>\n",
       "      <th>Month</th>\n",
       "      <td>-0.023368</td>\n",
       "      <td>-0.004749</td>\n",
       "      <td>-0.001498</td>\n",
       "      <td>0.010127</td>\n",
       "      <td>-0.021137</td>\n",
       "      <td>-0.017678</td>\n",
       "      <td>-0.003646</td>\n",
       "      <td>0.002829</td>\n",
       "      <td>0.003311</td>\n",
       "      <td>1.000000</td>\n",
       "      <td>...</td>\n",
       "      <td>-0.040026</td>\n",
       "      <td>0.121191</td>\n",
       "      <td>0.042888</td>\n",
       "      <td>-0.084233</td>\n",
       "      <td>0.122952</td>\n",
       "      <td>-0.090128</td>\n",
       "      <td>0.142461</td>\n",
       "      <td>0.138033</td>\n",
       "      <td>-0.053684</td>\n",
       "      <td>0.002300</td>\n",
       "    </tr>\n",
       "    <tr>\n",
       "      <th>Origin</th>\n",
       "      <td>0.020761</td>\n",
       "      <td>-0.024607</td>\n",
       "      <td>-0.044655</td>\n",
       "      <td>-0.000008</td>\n",
       "      <td>0.014527</td>\n",
       "      <td>0.008607</td>\n",
       "      <td>-0.045355</td>\n",
       "      <td>-0.040610</td>\n",
       "      <td>-0.033152</td>\n",
       "      <td>0.002300</td>\n",
       "      <td>...</td>\n",
       "      <td>-0.027725</td>\n",
       "      <td>-0.017840</td>\n",
       "      <td>-0.052336</td>\n",
       "      <td>0.076511</td>\n",
       "      <td>0.018882</td>\n",
       "      <td>-0.039873</td>\n",
       "      <td>-0.031699</td>\n",
       "      <td>-0.028340</td>\n",
       "      <td>0.117704</td>\n",
       "      <td>1.000000</td>\n",
       "    </tr>\n",
       "    <tr>\n",
       "      <th>OriginAirportID</th>\n",
       "      <td>0.019357</td>\n",
       "      <td>-0.025218</td>\n",
       "      <td>-0.045688</td>\n",
       "      <td>-0.000147</td>\n",
       "      <td>0.012233</td>\n",
       "      <td>0.006823</td>\n",
       "      <td>-0.046768</td>\n",
       "      <td>-0.033287</td>\n",
       "      <td>-0.026588</td>\n",
       "      <td>0.002796</td>\n",
       "      <td>...</td>\n",
       "      <td>-0.028767</td>\n",
       "      <td>-0.019516</td>\n",
       "      <td>-0.057426</td>\n",
       "      <td>0.074003</td>\n",
       "      <td>-0.016751</td>\n",
       "      <td>-0.046741</td>\n",
       "      <td>-0.050462</td>\n",
       "      <td>-0.046612</td>\n",
       "      <td>0.100136</td>\n",
       "      <td>0.993755</td>\n",
       "    </tr>\n",
       "    <tr>\n",
       "      <th>Quarter</th>\n",
       "      <td>-0.022739</td>\n",
       "      <td>-0.004011</td>\n",
       "      <td>-0.001978</td>\n",
       "      <td>0.010357</td>\n",
       "      <td>-0.020276</td>\n",
       "      <td>-0.015989</td>\n",
       "      <td>-0.003982</td>\n",
       "      <td>0.002776</td>\n",
       "      <td>0.003257</td>\n",
       "      <td>0.970557</td>\n",
       "      <td>...</td>\n",
       "      <td>-0.037419</td>\n",
       "      <td>0.120011</td>\n",
       "      <td>0.037625</td>\n",
       "      <td>-0.086879</td>\n",
       "      <td>0.133693</td>\n",
       "      <td>-0.092858</td>\n",
       "      <td>0.152983</td>\n",
       "      <td>0.148997</td>\n",
       "      <td>-0.054536</td>\n",
       "      <td>0.002292</td>\n",
       "    </tr>\n",
       "    <tr>\n",
       "      <th>Year</th>\n",
       "      <td>0.010234</td>\n",
       "      <td>0.000133</td>\n",
       "      <td>0.001672</td>\n",
       "      <td>0.000285</td>\n",
       "      <td>0.005314</td>\n",
       "      <td>0.003542</td>\n",
       "      <td>0.003710</td>\n",
       "      <td>0.000295</td>\n",
       "      <td>0.000474</td>\n",
       "      <td>-0.002256</td>\n",
       "      <td>...</td>\n",
       "      <td>0.008247</td>\n",
       "      <td>0.058635</td>\n",
       "      <td>-0.043998</td>\n",
       "      <td>-0.091035</td>\n",
       "      <td>-0.017624</td>\n",
       "      <td>0.040659</td>\n",
       "      <td>-0.010239</td>\n",
       "      <td>0.004545</td>\n",
       "      <td>-0.044559</td>\n",
       "      <td>0.000278</td>\n",
       "    </tr>\n",
       "    <tr>\n",
       "      <th>windspeedKmph</th>\n",
       "      <td>0.085093</td>\n",
       "      <td>0.160427</td>\n",
       "      <td>0.154845</td>\n",
       "      <td>0.009468</td>\n",
       "      <td>0.080514</td>\n",
       "      <td>0.071739</td>\n",
       "      <td>0.164111</td>\n",
       "      <td>0.008086</td>\n",
       "      <td>0.006310</td>\n",
       "      <td>-0.094982</td>\n",
       "      <td>...</td>\n",
       "      <td>0.130669</td>\n",
       "      <td>0.033562</td>\n",
       "      <td>-0.203910</td>\n",
       "      <td>0.090122</td>\n",
       "      <td>-0.055783</td>\n",
       "      <td>0.910852</td>\n",
       "      <td>-0.097257</td>\n",
       "      <td>-0.127656</td>\n",
       "      <td>0.014278</td>\n",
       "      <td>-0.030547</td>\n",
       "    </tr>\n",
       "    <tr>\n",
       "      <th>winddirDegree</th>\n",
       "      <td>0.019526</td>\n",
       "      <td>0.016975</td>\n",
       "      <td>0.050818</td>\n",
       "      <td>0.001262</td>\n",
       "      <td>0.022374</td>\n",
       "      <td>0.012503</td>\n",
       "      <td>0.047758</td>\n",
       "      <td>0.026701</td>\n",
       "      <td>0.028792</td>\n",
       "      <td>-0.047958</td>\n",
       "      <td>...</td>\n",
       "      <td>-0.061032</td>\n",
       "      <td>0.050650</td>\n",
       "      <td>-0.136059</td>\n",
       "      <td>-0.078563</td>\n",
       "      <td>-0.080907</td>\n",
       "      <td>0.085481</td>\n",
       "      <td>-0.081223</td>\n",
       "      <td>-0.090090</td>\n",
       "      <td>0.006764</td>\n",
       "      <td>0.016481</td>\n",
       "    </tr>\n",
       "    <tr>\n",
       "      <th>weatherCode</th>\n",
       "      <td>0.092631</td>\n",
       "      <td>0.015099</td>\n",
       "      <td>0.013540</td>\n",
       "      <td>-0.009417</td>\n",
       "      <td>0.080544</td>\n",
       "      <td>0.079583</td>\n",
       "      <td>0.018802</td>\n",
       "      <td>-0.015497</td>\n",
       "      <td>-0.017940</td>\n",
       "      <td>-0.088521</td>\n",
       "      <td>...</td>\n",
       "      <td>0.546828</td>\n",
       "      <td>-0.374527</td>\n",
       "      <td>-0.145292</td>\n",
       "      <td>0.451483</td>\n",
       "      <td>0.207779</td>\n",
       "      <td>0.186006</td>\n",
       "      <td>-0.014533</td>\n",
       "      <td>-0.013000</td>\n",
       "      <td>0.287993</td>\n",
       "      <td>-0.027161</td>\n",
       "    </tr>\n",
       "    <tr>\n",
       "      <th>precipMM</th>\n",
       "      <td>0.088449</td>\n",
       "      <td>0.030528</td>\n",
       "      <td>0.032850</td>\n",
       "      <td>-0.001259</td>\n",
       "      <td>0.080523</td>\n",
       "      <td>0.081938</td>\n",
       "      <td>0.036953</td>\n",
       "      <td>-0.008627</td>\n",
       "      <td>-0.010310</td>\n",
       "      <td>-0.040026</td>\n",
       "      <td>...</td>\n",
       "      <td>1.000000</td>\n",
       "      <td>-0.271029</td>\n",
       "      <td>-0.141882</td>\n",
       "      <td>0.264055</td>\n",
       "      <td>0.142049</td>\n",
       "      <td>0.204750</td>\n",
       "      <td>-0.004917</td>\n",
       "      <td>-0.006112</td>\n",
       "      <td>0.201239</td>\n",
       "      <td>-0.027725</td>\n",
       "    </tr>\n",
       "    <tr>\n",
       "      <th>visibility</th>\n",
       "      <td>-0.021842</td>\n",
       "      <td>0.091271</td>\n",
       "      <td>0.105889</td>\n",
       "      <td>0.025225</td>\n",
       "      <td>-0.012637</td>\n",
       "      <td>-0.019312</td>\n",
       "      <td>0.102774</td>\n",
       "      <td>0.011786</td>\n",
       "      <td>0.013525</td>\n",
       "      <td>0.121191</td>\n",
       "      <td>...</td>\n",
       "      <td>-0.271029</td>\n",
       "      <td>1.000000</td>\n",
       "      <td>0.022496</td>\n",
       "      <td>-0.360342</td>\n",
       "      <td>-0.077107</td>\n",
       "      <td>-0.014927</td>\n",
       "      <td>0.150165</td>\n",
       "      <td>0.143353</td>\n",
       "      <td>-0.357275</td>\n",
       "      <td>-0.017840</td>\n",
       "    </tr>\n",
       "    <tr>\n",
       "      <th>pressure</th>\n",
       "      <td>-0.073886</td>\n",
       "      <td>-0.060437</td>\n",
       "      <td>-0.077368</td>\n",
       "      <td>-0.032988</td>\n",
       "      <td>-0.060215</td>\n",
       "      <td>-0.052188</td>\n",
       "      <td>-0.075025</td>\n",
       "      <td>-0.025933</td>\n",
       "      <td>-0.028700</td>\n",
       "      <td>0.042888</td>\n",
       "      <td>...</td>\n",
       "      <td>-0.141882</td>\n",
       "      <td>0.022496</td>\n",
       "      <td>1.000000</td>\n",
       "      <td>-0.042421</td>\n",
       "      <td>-0.197691</td>\n",
       "      <td>-0.212974</td>\n",
       "      <td>-0.346612</td>\n",
       "      <td>-0.344379</td>\n",
       "      <td>0.134036</td>\n",
       "      <td>-0.052336</td>\n",
       "    </tr>\n",
       "    <tr>\n",
       "      <th>cloudcover</th>\n",
       "      <td>0.037856</td>\n",
       "      <td>-0.032332</td>\n",
       "      <td>-0.057288</td>\n",
       "      <td>-0.015192</td>\n",
       "      <td>0.029351</td>\n",
       "      <td>0.031330</td>\n",
       "      <td>-0.053260</td>\n",
       "      <td>-0.011573</td>\n",
       "      <td>-0.013609</td>\n",
       "      <td>-0.084233</td>\n",
       "      <td>...</td>\n",
       "      <td>0.264055</td>\n",
       "      <td>-0.360342</td>\n",
       "      <td>-0.042421</td>\n",
       "      <td>1.000000</td>\n",
       "      <td>0.136903</td>\n",
       "      <td>0.128676</td>\n",
       "      <td>-0.246735</td>\n",
       "      <td>-0.243158</td>\n",
       "      <td>0.529071</td>\n",
       "      <td>0.076511</td>\n",
       "    </tr>\n",
       "    <tr>\n",
       "      <th>DewPointF</th>\n",
       "      <td>0.038140</td>\n",
       "      <td>0.006619</td>\n",
       "      <td>0.030099</td>\n",
       "      <td>0.018075</td>\n",
       "      <td>0.036910</td>\n",
       "      <td>0.038023</td>\n",
       "      <td>0.031685</td>\n",
       "      <td>-0.056142</td>\n",
       "      <td>-0.055773</td>\n",
       "      <td>0.122952</td>\n",
       "      <td>...</td>\n",
       "      <td>0.142049</td>\n",
       "      <td>-0.077107</td>\n",
       "      <td>-0.197691</td>\n",
       "      <td>0.136903</td>\n",
       "      <td>1.000000</td>\n",
       "      <td>-0.069259</td>\n",
       "      <td>0.649184</td>\n",
       "      <td>0.659521</td>\n",
       "      <td>0.352984</td>\n",
       "      <td>0.018882</td>\n",
       "    </tr>\n",
       "    <tr>\n",
       "      <th>WindGustKmph</th>\n",
       "      <td>0.080309</td>\n",
       "      <td>0.090938</td>\n",
       "      <td>0.115164</td>\n",
       "      <td>0.006418</td>\n",
       "      <td>0.072551</td>\n",
       "      <td>0.071245</td>\n",
       "      <td>0.118263</td>\n",
       "      <td>0.004310</td>\n",
       "      <td>0.001647</td>\n",
       "      <td>-0.090128</td>\n",
       "      <td>...</td>\n",
       "      <td>0.204750</td>\n",
       "      <td>-0.014927</td>\n",
       "      <td>-0.212974</td>\n",
       "      <td>0.128676</td>\n",
       "      <td>-0.069259</td>\n",
       "      <td>1.000000</td>\n",
       "      <td>-0.144230</td>\n",
       "      <td>-0.170943</td>\n",
       "      <td>0.070899</td>\n",
       "      <td>-0.039873</td>\n",
       "    </tr>\n",
       "    <tr>\n",
       "      <th>tempF</th>\n",
       "      <td>0.035390</td>\n",
       "      <td>0.141935</td>\n",
       "      <td>0.146884</td>\n",
       "      <td>0.016331</td>\n",
       "      <td>0.036078</td>\n",
       "      <td>0.029618</td>\n",
       "      <td>0.150887</td>\n",
       "      <td>-0.032813</td>\n",
       "      <td>-0.029950</td>\n",
       "      <td>0.142461</td>\n",
       "      <td>...</td>\n",
       "      <td>-0.004917</td>\n",
       "      <td>0.150165</td>\n",
       "      <td>-0.346612</td>\n",
       "      <td>-0.246735</td>\n",
       "      <td>0.649184</td>\n",
       "      <td>-0.144230</td>\n",
       "      <td>1.000000</td>\n",
       "      <td>0.993143</td>\n",
       "      <td>-0.426260</td>\n",
       "      <td>-0.031699</td>\n",
       "    </tr>\n",
       "    <tr>\n",
       "      <th>WindChillF</th>\n",
       "      <td>0.031992</td>\n",
       "      <td>0.132120</td>\n",
       "      <td>0.147577</td>\n",
       "      <td>0.015826</td>\n",
       "      <td>0.033097</td>\n",
       "      <td>0.027397</td>\n",
       "      <td>0.149695</td>\n",
       "      <td>-0.031766</td>\n",
       "      <td>-0.028669</td>\n",
       "      <td>0.138033</td>\n",
       "      <td>...</td>\n",
       "      <td>-0.006112</td>\n",
       "      <td>0.143353</td>\n",
       "      <td>-0.344379</td>\n",
       "      <td>-0.243158</td>\n",
       "      <td>0.659521</td>\n",
       "      <td>-0.170943</td>\n",
       "      <td>0.993143</td>\n",
       "      <td>1.000000</td>\n",
       "      <td>-0.413693</td>\n",
       "      <td>-0.028340</td>\n",
       "    </tr>\n",
       "    <tr>\n",
       "      <th>humidity</th>\n",
       "      <td>-0.000720</td>\n",
       "      <td>-0.204943</td>\n",
       "      <td>-0.191055</td>\n",
       "      <td>-0.001185</td>\n",
       "      <td>-0.005634</td>\n",
       "      <td>0.004276</td>\n",
       "      <td>-0.193531</td>\n",
       "      <td>-0.021616</td>\n",
       "      <td>-0.023853</td>\n",
       "      <td>-0.053684</td>\n",
       "      <td>...</td>\n",
       "      <td>0.201239</td>\n",
       "      <td>-0.357275</td>\n",
       "      <td>0.134036</td>\n",
       "      <td>0.529071</td>\n",
       "      <td>0.352984</td>\n",
       "      <td>0.070899</td>\n",
       "      <td>-0.426260</td>\n",
       "      <td>-0.413693</td>\n",
       "      <td>1.000000</td>\n",
       "      <td>0.117704</td>\n",
       "    </tr>\n",
       "    <tr>\n",
       "      <th>airport</th>\n",
       "      <td>0.020761</td>\n",
       "      <td>-0.024607</td>\n",
       "      <td>-0.044655</td>\n",
       "      <td>-0.000008</td>\n",
       "      <td>0.014527</td>\n",
       "      <td>0.008607</td>\n",
       "      <td>-0.045355</td>\n",
       "      <td>-0.040610</td>\n",
       "      <td>-0.033152</td>\n",
       "      <td>0.002300</td>\n",
       "      <td>...</td>\n",
       "      <td>-0.027725</td>\n",
       "      <td>-0.017840</td>\n",
       "      <td>-0.052336</td>\n",
       "      <td>0.076511</td>\n",
       "      <td>0.018882</td>\n",
       "      <td>-0.039873</td>\n",
       "      <td>-0.031699</td>\n",
       "      <td>-0.028340</td>\n",
       "      <td>0.117704</td>\n",
       "      <td>1.000000</td>\n",
       "    </tr>\n",
       "  </tbody>\n",
       "</table>\n",
       "<p>27 rows × 27 columns</p>\n",
       "</div>"
      ],
      "text/plain": [
       "                 ArrDel15  CRSArrTime  CRSDepTime  DayofMonth  DepDel15  \\\n",
       "ArrDel15         1.000000    0.110601    0.127240   -0.007595  0.710538   \n",
       "CRSArrTime       0.110601    1.000000    0.487270   -0.001902  0.118568   \n",
       "CRSDepTime       0.127240    0.487270    1.000000    0.000354  0.154985   \n",
       "DayofMonth      -0.007595   -0.001902    0.000354    1.000000 -0.007067   \n",
       "DepDel15         0.710538    0.118568    0.154985   -0.007067  1.000000   \n",
       "DepDelayMinutes  0.546142    0.086941    0.104760   -0.006684  0.608080   \n",
       "DepTime          0.154322    0.513784    0.934008   -0.000778  0.183905   \n",
       "Dest             0.051256    0.009244    0.061127    0.000443  0.033684   \n",
       "DestAirportID    0.048184    0.010097    0.062914    0.000318  0.031411   \n",
       "Month           -0.023368   -0.004749   -0.001498    0.010127 -0.021137   \n",
       "Origin           0.020761   -0.024607   -0.044655   -0.000008  0.014527   \n",
       "OriginAirportID  0.019357   -0.025218   -0.045688   -0.000147  0.012233   \n",
       "Quarter         -0.022739   -0.004011   -0.001978    0.010357 -0.020276   \n",
       "Year             0.010234    0.000133    0.001672    0.000285  0.005314   \n",
       "windspeedKmph    0.085093    0.160427    0.154845    0.009468  0.080514   \n",
       "winddirDegree    0.019526    0.016975    0.050818    0.001262  0.022374   \n",
       "weatherCode      0.092631    0.015099    0.013540   -0.009417  0.080544   \n",
       "precipMM         0.088449    0.030528    0.032850   -0.001259  0.080523   \n",
       "visibility      -0.021842    0.091271    0.105889    0.025225 -0.012637   \n",
       "pressure        -0.073886   -0.060437   -0.077368   -0.032988 -0.060215   \n",
       "cloudcover       0.037856   -0.032332   -0.057288   -0.015192  0.029351   \n",
       "DewPointF        0.038140    0.006619    0.030099    0.018075  0.036910   \n",
       "WindGustKmph     0.080309    0.090938    0.115164    0.006418  0.072551   \n",
       "tempF            0.035390    0.141935    0.146884    0.016331  0.036078   \n",
       "WindChillF       0.031992    0.132120    0.147577    0.015826  0.033097   \n",
       "humidity        -0.000720   -0.204943   -0.191055   -0.001185 -0.005634   \n",
       "airport          0.020761   -0.024607   -0.044655   -0.000008  0.014527   \n",
       "\n",
       "                 DepDelayMinutes   DepTime      Dest  DestAirportID     Month  \\\n",
       "ArrDel15                0.546142  0.154322  0.051256       0.048184 -0.023368   \n",
       "CRSArrTime              0.086941  0.513784  0.009244       0.010097 -0.004749   \n",
       "CRSDepTime              0.104760  0.934008  0.061127       0.062914 -0.001498   \n",
       "DayofMonth             -0.006684 -0.000778  0.000443       0.000318  0.010127   \n",
       "DepDel15                0.608080  0.183905  0.033684       0.031411 -0.021137   \n",
       "DepDelayMinutes         1.000000  0.127716  0.019076       0.016701 -0.017678   \n",
       "DepTime                 0.127716  1.000000  0.061829       0.063417 -0.003646   \n",
       "Dest                    0.019076  0.061829  1.000000       0.993752  0.002829   \n",
       "DestAirportID           0.016701  0.063417  0.993752       1.000000  0.003311   \n",
       "Month                  -0.017678 -0.003646  0.002829       0.003311  1.000000   \n",
       "Origin                  0.008607 -0.045355 -0.040610      -0.033152  0.002300   \n",
       "OriginAirportID         0.006823 -0.046768 -0.033287      -0.026588  0.002796   \n",
       "Quarter                -0.015989 -0.003982  0.002776       0.003257  0.970557   \n",
       "Year                    0.003542  0.003710  0.000295       0.000474 -0.002256   \n",
       "windspeedKmph           0.071739  0.164111  0.008086       0.006310 -0.094982   \n",
       "winddirDegree           0.012503  0.047758  0.026701       0.028792 -0.047958   \n",
       "weatherCode             0.079583  0.018802 -0.015497      -0.017940 -0.088521   \n",
       "precipMM                0.081938  0.036953 -0.008627      -0.010310 -0.040026   \n",
       "visibility             -0.019312  0.102774  0.011786       0.013525  0.121191   \n",
       "pressure               -0.052188 -0.075025 -0.025933      -0.028700  0.042888   \n",
       "cloudcover              0.031330 -0.053260 -0.011573      -0.013609 -0.084233   \n",
       "DewPointF               0.038023  0.031685 -0.056142      -0.055773  0.122952   \n",
       "WindGustKmph            0.071245  0.118263  0.004310       0.001647 -0.090128   \n",
       "tempF                   0.029618  0.150887 -0.032813      -0.029950  0.142461   \n",
       "WindChillF              0.027397  0.149695 -0.031766      -0.028669  0.138033   \n",
       "humidity                0.004276 -0.193531 -0.021616      -0.023853 -0.053684   \n",
       "airport                 0.008607 -0.045355 -0.040610      -0.033152  0.002300   \n",
       "\n",
       "                 ...  precipMM  visibility  pressure  cloudcover  DewPointF  \\\n",
       "ArrDel15         ...  0.088449   -0.021842 -0.073886    0.037856   0.038140   \n",
       "CRSArrTime       ...  0.030528    0.091271 -0.060437   -0.032332   0.006619   \n",
       "CRSDepTime       ...  0.032850    0.105889 -0.077368   -0.057288   0.030099   \n",
       "DayofMonth       ... -0.001259    0.025225 -0.032988   -0.015192   0.018075   \n",
       "DepDel15         ...  0.080523   -0.012637 -0.060215    0.029351   0.036910   \n",
       "DepDelayMinutes  ...  0.081938   -0.019312 -0.052188    0.031330   0.038023   \n",
       "DepTime          ...  0.036953    0.102774 -0.075025   -0.053260   0.031685   \n",
       "Dest             ... -0.008627    0.011786 -0.025933   -0.011573  -0.056142   \n",
       "DestAirportID    ... -0.010310    0.013525 -0.028700   -0.013609  -0.055773   \n",
       "Month            ... -0.040026    0.121191  0.042888   -0.084233   0.122952   \n",
       "Origin           ... -0.027725   -0.017840 -0.052336    0.076511   0.018882   \n",
       "OriginAirportID  ... -0.028767   -0.019516 -0.057426    0.074003  -0.016751   \n",
       "Quarter          ... -0.037419    0.120011  0.037625   -0.086879   0.133693   \n",
       "Year             ...  0.008247    0.058635 -0.043998   -0.091035  -0.017624   \n",
       "windspeedKmph    ...  0.130669    0.033562 -0.203910    0.090122  -0.055783   \n",
       "winddirDegree    ... -0.061032    0.050650 -0.136059   -0.078563  -0.080907   \n",
       "weatherCode      ...  0.546828   -0.374527 -0.145292    0.451483   0.207779   \n",
       "precipMM         ...  1.000000   -0.271029 -0.141882    0.264055   0.142049   \n",
       "visibility       ... -0.271029    1.000000  0.022496   -0.360342  -0.077107   \n",
       "pressure         ... -0.141882    0.022496  1.000000   -0.042421  -0.197691   \n",
       "cloudcover       ...  0.264055   -0.360342 -0.042421    1.000000   0.136903   \n",
       "DewPointF        ...  0.142049   -0.077107 -0.197691    0.136903   1.000000   \n",
       "WindGustKmph     ...  0.204750   -0.014927 -0.212974    0.128676  -0.069259   \n",
       "tempF            ... -0.004917    0.150165 -0.346612   -0.246735   0.649184   \n",
       "WindChillF       ... -0.006112    0.143353 -0.344379   -0.243158   0.659521   \n",
       "humidity         ...  0.201239   -0.357275  0.134036    0.529071   0.352984   \n",
       "airport          ... -0.027725   -0.017840 -0.052336    0.076511   0.018882   \n",
       "\n",
       "                 WindGustKmph     tempF  WindChillF  humidity   airport  \n",
       "ArrDel15             0.080309  0.035390    0.031992 -0.000720  0.020761  \n",
       "CRSArrTime           0.090938  0.141935    0.132120 -0.204943 -0.024607  \n",
       "CRSDepTime           0.115164  0.146884    0.147577 -0.191055 -0.044655  \n",
       "DayofMonth           0.006418  0.016331    0.015826 -0.001185 -0.000008  \n",
       "DepDel15             0.072551  0.036078    0.033097 -0.005634  0.014527  \n",
       "DepDelayMinutes      0.071245  0.029618    0.027397  0.004276  0.008607  \n",
       "DepTime              0.118263  0.150887    0.149695 -0.193531 -0.045355  \n",
       "Dest                 0.004310 -0.032813   -0.031766 -0.021616 -0.040610  \n",
       "DestAirportID        0.001647 -0.029950   -0.028669 -0.023853 -0.033152  \n",
       "Month               -0.090128  0.142461    0.138033 -0.053684  0.002300  \n",
       "Origin              -0.039873 -0.031699   -0.028340  0.117704  1.000000  \n",
       "OriginAirportID     -0.046741 -0.050462   -0.046612  0.100136  0.993755  \n",
       "Quarter             -0.092858  0.152983    0.148997 -0.054536  0.002292  \n",
       "Year                 0.040659 -0.010239    0.004545 -0.044559  0.000278  \n",
       "windspeedKmph        0.910852 -0.097257   -0.127656  0.014278 -0.030547  \n",
       "winddirDegree        0.085481 -0.081223   -0.090090  0.006764  0.016481  \n",
       "weatherCode          0.186006 -0.014533   -0.013000  0.287993 -0.027161  \n",
       "precipMM             0.204750 -0.004917   -0.006112  0.201239 -0.027725  \n",
       "visibility          -0.014927  0.150165    0.143353 -0.357275 -0.017840  \n",
       "pressure            -0.212974 -0.346612   -0.344379  0.134036 -0.052336  \n",
       "cloudcover           0.128676 -0.246735   -0.243158  0.529071  0.076511  \n",
       "DewPointF           -0.069259  0.649184    0.659521  0.352984  0.018882  \n",
       "WindGustKmph         1.000000 -0.144230   -0.170943  0.070899 -0.039873  \n",
       "tempF               -0.144230  1.000000    0.993143 -0.426260 -0.031699  \n",
       "WindChillF          -0.170943  0.993143    1.000000 -0.413693 -0.028340  \n",
       "humidity             0.070899 -0.426260   -0.413693  1.000000  0.117704  \n",
       "airport             -0.039873 -0.031699   -0.028340  0.117704  1.000000  \n",
       "\n",
       "[27 rows x 27 columns]"
      ]
     },
     "execution_count": 42,
     "metadata": {},
     "output_type": "execute_result"
    }
   ],
   "source": [
    "df.corr()"
   ]
  },
  {
   "cell_type": "markdown",
   "metadata": {},
   "source": [
    " "
   ]
  },
  {
   "cell_type": "markdown",
   "metadata": {},
   "source": [
    " "
   ]
  },
  {
   "cell_type": "markdown",
   "metadata": {},
   "source": [
    "  "
   ]
  },
  {
   "cell_type": "markdown",
   "metadata": {},
   "source": [
    " "
   ]
  },
  {
   "cell_type": "markdown",
   "metadata": {},
   "source": [
    " "
   ]
  },
  {
   "cell_type": "markdown",
   "metadata": {},
   "source": [
    "# Un-Sampled Data\n",
    "We will work the above classifier models using unsampled data, i.e data that has not be altered and predict if the flight is on time or delayed"
   ]
  },
  {
   "cell_type": "markdown",
   "metadata": {},
   "source": [
    "In this dataframe the variable we need to predict is '`ArrDel15`' and therefore we need to divide it into two variables:\n",
    "* `X` - the input variable which helps us predict, which is all features except for `Arrdel15` and `ArrDelayMinutes`\n",
    "* `y` - the output variable or the predictor variable, which is basically the column `ArrDel15`\n",
    "\n",
    "We must then split them into train and test datasets using an inbuilt function from scikit learn called train_test_split : [LOOKUP](https://scikit-learn.org/stable/modules/generated/sklearn.model_selection.train_test_split.html)"
   ]
  },
  {
   "cell_type": "code",
   "execution_count": 8,
   "metadata": {},
   "outputs": [],
   "source": [
    "X = df.drop(columns = ['ArrDel15'])\n",
    "y = df['ArrDel15']\n",
    "\n",
    "# Spplitting the datasets\n",
    "from sklearn.model_selection import train_test_split\n",
    "X_train,X_test,y_train,y_test = train_test_split(X,y,test_size=0.3,stratify=y,random_state=2022)"
   ]
  },
  {
   "cell_type": "code",
   "execution_count": 9,
   "metadata": {},
   "outputs": [
    {
     "data": {
      "text/plain": [
       "((1295698, 26), (555300, 26), (1295698,), (555300,))"
      ]
     },
     "execution_count": 9,
     "metadata": {},
     "output_type": "execute_result"
    }
   ],
   "source": [
    "X_train.shape, X_test.shape, y_train.shape, y_test.shape"
   ]
  },
  {
   "cell_type": "markdown",
   "metadata": {},
   "source": [
    "## Accuracy measurement\n",
    "There are also a few metrics that we use for checking the accuracy of our model. Some of them are\n",
    "1. model.score()\n",
    "2. A classification report that gives us the precision and the recall and also the F1 score, where:\n",
    "    1. Precision is the fraction of how many of the items that are selected are relevant.\n",
    "    2. Recall is the fraction of how many relevant items are selected.\n",
    "    3. F1 score which is the harmonic mean between the Precision and the Recall\n",
    "3. A confusion matrix which gives us a matrix of the true negatives($C_{0, 0}$), false negatives($C_{1, 0}$), true positives($C_{0, 1}$) false positives($C_{1, 1}$)"
   ]
  },
  {
   "cell_type": "code",
   "execution_count": 10,
   "metadata": {},
   "outputs": [],
   "source": [
    "import sklearn.metrics"
   ]
  },
  {
   "cell_type": "markdown",
   "metadata": {},
   "source": [
    "## KNeighbors Classifier\n"
   ]
  },
  {
   "cell_type": "code",
   "execution_count": 11,
   "metadata": {},
   "outputs": [],
   "source": [
    "from sklearn.neighbors import KNeighborsClassifier"
   ]
  },
  {
   "cell_type": "code",
   "execution_count": 12,
   "metadata": {},
   "outputs": [],
   "source": [
    "knn = KNeighborsClassifier(n_neighbors=5)\n",
    "knn_classifier = knn.fit(X_train, y_train)"
   ]
  },
  {
   "cell_type": "code",
   "execution_count": 13,
   "metadata": {},
   "outputs": [],
   "source": [
    "y_pred_knn = knn.predict(X_test)"
   ]
  },
  {
   "cell_type": "code",
   "execution_count": 14,
   "metadata": {},
   "outputs": [
    {
     "name": "stdout",
     "output_type": "stream",
     "text": [
      "KNN  Classifier Train Accuracy : 91.73935593016273 %\n",
      "\n",
      "KNN  Classifier Test Accuracy : 89.56203853772735 %\n",
      "-------------------------------------------------------------------------------------------------\n",
      "\n",
      "Classification Report : \n",
      "               precision    recall  f1-score   support\n",
      "\n",
      "         0.0       0.90      0.98      0.94    438901\n",
      "         1.0       0.88      0.59      0.70    116399\n",
      "\n",
      "    accuracy                           0.90    555300\n",
      "   macro avg       0.89      0.78      0.82    555300\n",
      "weighted avg       0.89      0.90      0.89    555300\n",
      "\n",
      "-------------------------------------------------------------------------------------------------\n",
      "\n",
      " Confusion Matrix :- \n",
      "[[429214   9687]\n",
      " [ 48275  68124]]\n"
     ]
    }
   ],
   "source": [
    "print(\"KNN  Classifier Train Accuracy : {} %\".format(knn_classifier.score(X_train, \n",
    "                                                                                   y_train)*100))\n",
    "print(\"\\nKNN  Classifier Test Accuracy : {} %\".format(sklearn.metrics.accuracy_score(y_test, \n",
    "                                                                                 y_pred_knn)*100))\n",
    "print(\"-------------------------------------------------------------------------------------------------\")\n",
    "print(\"\\nClassification Report : \\n {}\".format(sklearn.metrics.classification_report(y_test, \n",
    "                                                                                     y_pred_knn)))\n",
    "print(\"-------------------------------------------------------------------------------------------------\")\n",
    "print(\"\\n Confusion Matrix :- \\n{}\".format(sklearn.metrics.confusion_matrix(y_test, \n",
    "                                                                            y_pred_knn)))"
   ]
  },
  {
   "cell_type": "markdown",
   "metadata": {},
   "source": [
    "## Logistic Regression\n",
    "Logistic regression is a statistical model that in its basic form uses a logistic function to model a binary dependent variable, although many more complex extensions exist. In regression analysis, logistic regression (or logit regression) is estimating the parameters of a logistic model (a form of binary regression)"
   ]
  },
  {
   "cell_type": "code",
   "execution_count": 16,
   "metadata": {},
   "outputs": [],
   "source": [
    "from sklearn.linear_model import LogisticRegression"
   ]
  },
  {
   "cell_type": "code",
   "execution_count": 50,
   "metadata": {},
   "outputs": [],
   "source": [
    "logistic_model = LogisticRegression(max_iter=500000)\n",
    "logistic_classifier = logistic_model.fit(X_train, y_train)"
   ]
  },
  {
   "cell_type": "code",
   "execution_count": 51,
   "metadata": {},
   "outputs": [
    {
     "name": "stdout",
     "output_type": "stream",
     "text": [
      "Logistic regression Train Accuracy : 91.6004346691899 %\n",
      "\n",
      "Logistic regression Test Accuracy : 91.62362686835944 %\n",
      "-------------------------------------------------------------------------------------------------\n",
      "\n",
      "Classification Report : \n",
      "               precision    recall  f1-score   support\n",
      "\n",
      "         0.0       0.92      0.98      0.95    438901\n",
      "         1.0       0.89      0.68      0.77    116399\n",
      "\n",
      "    accuracy                           0.92    555300\n",
      "   macro avg       0.91      0.83      0.86    555300\n",
      "weighted avg       0.91      0.92      0.91    555300\n",
      "\n",
      "-------------------------------------------------------------------------------------------------\n",
      "\n",
      " Confusion Matrix :- \n",
      "[[429137   9764]\n",
      " [ 36750  79649]]\n"
     ]
    }
   ],
   "source": [
    "y_pred_logistic = logistic_model.predict(X_test)\n",
    "print(\"Logistic regression Train Accuracy : {} %\".format(logistic_classifier.score(X_train, \n",
    "                                                                                   y_train)*100))\n",
    "print(\"\\nLogistic regression Test Accuracy : {} %\".format(sklearn.metrics.accuracy_score(y_test, \n",
    "                                                                                 y_pred_logistic)*100))\n",
    "print(\"-------------------------------------------------------------------------------------------------\")\n",
    "print(\"\\nClassification Report : \\n {}\".format(sklearn.metrics.classification_report(y_test, \n",
    "                                                                                     y_pred_logistic)))\n",
    "print(\"-------------------------------------------------------------------------------------------------\")\n",
    "print(\"\\n Confusion Matrix :- \\n{}\".format(sklearn.metrics.confusion_matrix(y_test, \n",
    "                                                                            y_pred_logistic)))"
   ]
  },
  {
   "cell_type": "markdown",
   "metadata": {},
   "source": [
    "## Random Forest\n",
    "Random forests or random decision forests are an ensemble learning method for classification, regression and other tasks that operate by constructing a multitude of decision trees at training time and outputting the class that is the mode of the classes or mean prediction of the individual trees."
   ]
  },
  {
   "cell_type": "code",
   "execution_count": 56,
   "metadata": {},
   "outputs": [],
   "source": [
    "from sklearn.ensemble import RandomForestClassifier"
   ]
  },
  {
   "cell_type": "code",
   "execution_count": 57,
   "metadata": {},
   "outputs": [],
   "source": [
    "random_forest_model = RandomForestClassifier()\n",
    "random_forest_classifier = random_forest_model.fit(X_train,y_train)"
   ]
  },
  {
   "cell_type": "code",
   "execution_count": 58,
   "metadata": {
    "scrolled": true
   },
   "outputs": [
    {
     "name": "stdout",
     "output_type": "stream",
     "text": [
      "Random Forest Clasifier Train Accuracy : 99.99583236217082 %\n",
      "\n",
      "Random Forest Clasifier Test Accuracy : 91.8406266882766 %\n",
      "-------------------------------------------------------------------------------------------------\n",
      "\n",
      "Classification Report : \n",
      "               precision    recall  f1-score   support\n",
      "\n",
      "         0.0       0.92      0.98      0.95    438901\n",
      "         1.0       0.89      0.70      0.78    116399\n",
      "\n",
      "    accuracy                           0.92    555300\n",
      "   macro avg       0.91      0.84      0.87    555300\n",
      "weighted avg       0.92      0.92      0.91    555300\n",
      "\n",
      "-------------------------------------------------------------------------------------------------\n",
      "\n",
      " Confusion Matrix :- \n",
      "[[428740  10161]\n",
      " [ 35148  81251]]\n"
     ]
    }
   ],
   "source": [
    "y_pred_randomforest = random_forest_model.predict(X_test)\n",
    "print(\"Random Forest Clasifier Train Accuracy : {} %\".format(random_forest_classifier.score(X_train,\n",
    "                                                                                            y_train)*100))\n",
    "print(\"\\nRandom Forest Clasifier Test Accuracy : {} %\".format(sklearn.metrics.accuracy_score(y_test, \n",
    "                                                                                     y_pred_randomforest)*100))\n",
    "print(\"-------------------------------------------------------------------------------------------------\")\n",
    "print(\"\\nClassification Report : \\n {}\".format(sklearn.metrics.classification_report(y_test, \n",
    "                                                                                     y_pred_randomforest)))\n",
    "print(\"-------------------------------------------------------------------------------------------------\")\n",
    "print(\"\\n Confusion Matrix :- \\n{}\".format(sklearn.metrics.confusion_matrix(y_test, \n",
    "                                                                            y_pred_randomforest)))"
   ]
  },
  {
   "cell_type": "markdown",
   "metadata": {},
   "source": [
    "## Decision Trees Classifier\n",
    "The decision tree classifier creates the classification model by building a decision tree. Each node in the tree specifies a test on an attribute, each branch descending from that node corresponds to one of the possible values for that attribute."
   ]
  },
  {
   "cell_type": "code",
   "execution_count": 64,
   "metadata": {},
   "outputs": [],
   "source": [
    "from sklearn.tree import DecisionTreeClassifier"
   ]
  },
  {
   "cell_type": "code",
   "execution_count": 65,
   "metadata": {},
   "outputs": [],
   "source": [
    "decision_trees_model = DecisionTreeClassifier()\n",
    "decision_trees_classifier = decision_trees_model.fit(X_train, y_train)"
   ]
  },
  {
   "cell_type": "code",
   "execution_count": 67,
   "metadata": {},
   "outputs": [
    {
     "name": "stdout",
     "output_type": "stream",
     "text": [
      "Decision Trees Clasifier Train Accuracy : 99.99984564304336 %\n",
      "\n",
      "Decision Trees Clasifier Test Accuracy : 86.82766072393301 %\n",
      "-------------------------------------------------------------------------------------------------\n",
      "\n",
      "Classification Report : \n",
      "               precision    recall  f1-score   support\n",
      "\n",
      "         0.0       0.92      0.91      0.92    438901\n",
      "         1.0       0.68      0.71      0.69    116399\n",
      "\n",
      "    accuracy                           0.87    555300\n",
      "   macro avg       0.80      0.81      0.80    555300\n",
      "weighted avg       0.87      0.87      0.87    555300\n",
      "\n",
      "-------------------------------------------------------------------------------------------------\n",
      "\n",
      " Confusion Matrix :- \n",
      "[[399972  38929]\n",
      " [ 34217  82182]]\n"
     ]
    }
   ],
   "source": [
    "y_pred_decisiontrees = decision_trees_model.predict(X_test)\n",
    "print(\"Decision Trees Clasifier Train Accuracy : {} %\".format(decision_trees_classifier.score(X_train,\n",
    "                                                                                           y_train)*100))\n",
    "print(\"\\nDecision Trees Clasifier Test Accuracy : {} %\".format(sklearn.metrics.accuracy_score(y_test,\n",
    "                                                                                      y_pred_decisiontrees)*100))\n",
    "print(\"-------------------------------------------------------------------------------------------------\")\n",
    "print(\"\\nClassification Report : \\n {}\".format(sklearn.metrics.classification_report(y_test, \n",
    "                                                                                     y_pred_decisiontrees)))\n",
    "print(\"-------------------------------------------------------------------------------------------------\")\n",
    "print(\"\\n Confusion Matrix :- \\n{}\".format(sklearn.metrics.confusion_matrix(y_test, \n",
    "                                                                            y_pred_decisiontrees)))"
   ]
  },
  {
   "cell_type": "markdown",
   "metadata": {},
   "source": [
    "## XGBoost Classifier\n",
    "XGBoost is a decision-tree-based ensemble Machine Learning algorithm that uses a gradient boosting framework"
   ]
  },
  {
   "cell_type": "code",
   "execution_count": 71,
   "metadata": {},
   "outputs": [],
   "source": [
    "import xgboost\n",
    "from xgboost import XGBClassifier\n",
    "xgboost_model = XGBClassifier()\n",
    "xbgoost_classifier = xgboost_model.fit(X_train, y_train)"
   ]
  },
  {
   "cell_type": "code",
   "execution_count": 72,
   "metadata": {},
   "outputs": [
    {
     "name": "stdout",
     "output_type": "stream",
     "text": [
      "XGBoost Clasifier Train Accuracy : 92.14909647155433 %\n",
      "\n",
      "XGBoost Trees Clasifier Test Accuracy : 91.94255357464434 %\n",
      "-------------------------------------------------------------------------------------------------\n",
      "\n",
      "Classification Report : \n",
      "               precision    recall  f1-score   support\n",
      "\n",
      "         0.0       0.92      0.98      0.95    438901\n",
      "         1.0       0.90      0.69      0.78    116399\n",
      "\n",
      "    accuracy                           0.92    555300\n",
      "   macro avg       0.91      0.84      0.87    555300\n",
      "weighted avg       0.92      0.92      0.92    555300\n",
      "\n",
      "-------------------------------------------------------------------------------------------------\n",
      "\n",
      " Confusion Matrix :- \n",
      "[[430011   8890]\n",
      " [ 35853  80546]]\n"
     ]
    }
   ],
   "source": [
    "y_pred_xgboost = xgboost_model.predict(X_test)\n",
    "print(\"XGBoost Clasifier Train Accuracy : {} %\".format(xbgoost_classifier.score(X_train, y_train)*100))\n",
    "print(\"\\nXGBoost Trees Clasifier Test Accuracy : {} %\".format(sklearn.metrics.accuracy_score(y_test, y_pred_xgboost)*100))\n",
    "print(\"-------------------------------------------------------------------------------------------------\")\n",
    "print(\"\\nClassification Report : \\n {}\".format(sklearn.metrics.classification_report(y_test, y_pred_xgboost)))\n",
    "print(\"-------------------------------------------------------------------------------------------------\")\n",
    "print(\"\\n Confusion Matrix :- \\n{}\".format(sklearn.metrics.confusion_matrix(y_test, y_pred_xgboost)))"
   ]
  },
  {
   "cell_type": "markdown",
   "metadata": {},
   "source": [
    " "
   ]
  },
  {
   "cell_type": "markdown",
   "metadata": {},
   "source": [
    " "
   ]
  },
  {
   "cell_type": "markdown",
   "metadata": {},
   "source": [
    "  "
   ]
  },
  {
   "cell_type": "markdown",
   "metadata": {},
   "source": [
    " "
   ]
  },
  {
   "cell_type": "markdown",
   "metadata": {},
   "source": [
    " "
   ]
  },
  {
   "cell_type": "markdown",
   "metadata": {},
   "source": [
    "# Sampled Data\n",
    "We will now work out models on oversampled and undersampled data.\n",
    "For the purpose of this project we will be looking at:\n",
    "* SMOTE oversampling [LOOKUP](https://imbalanced-learn.readthedocs.io/en/stable/generated/imblearn.over_sampling.SMOTE.html)\n",
    "* Random Undersampling [LOOKUP](https://imbalanced-learn.readthedocs.io/en/stable/generated/imblearn.under_sampling.RandomUnderSampler.html)"
   ]
  },
  {
   "cell_type": "markdown",
   "metadata": {},
   "source": [
    "## Considering SMOTE (Synthetic Minority Oversampling Technique)\n",
    "SMOTE is an oversampling technique that generates synthetic samples from the minority class. It is used to obtain a synthetically class-balanced or nearly class-balanced training set, which is then used to train the classifier."
   ]
  },
  {
   "cell_type": "code",
   "execution_count": 15,
   "metadata": {},
   "outputs": [
    {
     "name": "stdout",
     "output_type": "stream",
     "text": [
      "Original Number of values: \n",
      "0.0    1024100\n",
      "1.0     271598\n",
      "Name: ArrDel15, dtype: int64\n"
     ]
    }
   ],
   "source": [
    "# Looking at the original value counts\n",
    "print(\"Original Number of values: \\n{}\".format(y_train.value_counts()))"
   ]
  },
  {
   "cell_type": "code",
   "execution_count": 16,
   "metadata": {},
   "outputs": [],
   "source": [
    "import imblearn.over_sampling"
   ]
  },
  {
   "cell_type": "code",
   "execution_count": 17,
   "metadata": {},
   "outputs": [
    {
     "name": "stdout",
     "output_type": "stream",
     "text": [
      "Values after SMOTE: \n",
      "0.0    1024100\n",
      "1.0    1024100\n",
      "Name: ArrDel15, dtype: int64\n"
     ]
    }
   ],
   "source": [
    "\n",
    "over_sampler_SMOTE = imblearn.over_sampling.SMOTE(random_state = 285)\n",
    "X_train_SMOTE, y_train_SMOTE = over_sampler_SMOTE.fit_resample(X_train, y_train)\n",
    "\n",
    "# Now looking at the values for y_train\n",
    "print(\"Values after SMOTE: \\n{}\".format(y_train_SMOTE.value_counts()))"
   ]
  },
  {
   "cell_type": "markdown",
   "metadata": {},
   "source": [
    "## KNeighbors Classifier\n"
   ]
  },
  {
   "cell_type": "code",
   "execution_count": 18,
   "metadata": {},
   "outputs": [],
   "source": [
    "from sklearn.neighbors import KNeighborsClassifier"
   ]
  },
  {
   "cell_type": "code",
   "execution_count": 19,
   "metadata": {},
   "outputs": [],
   "source": [
    "knn = KNeighborsClassifier()\n",
    "knn_classifier = knn.fit(X_train, y_train)"
   ]
  },
  {
   "cell_type": "code",
   "execution_count": 20,
   "metadata": {},
   "outputs": [],
   "source": [
    "y_pred_knn = knn.predict(X_test)"
   ]
  },
  {
   "cell_type": "code",
   "execution_count": 21,
   "metadata": {},
   "outputs": [
    {
     "name": "stdout",
     "output_type": "stream",
     "text": [
      "KNN  Classifier Train Accuracy : 91.73935593016273 %\n",
      "\n",
      "KNN  Classifier Test Accuracy : 89.56203853772735 %\n",
      "-------------------------------------------------------------------------------------------------\n",
      "\n",
      "Classification Report : \n",
      "               precision    recall  f1-score   support\n",
      "\n",
      "         0.0       0.90      0.98      0.94    438901\n",
      "         1.0       0.88      0.59      0.70    116399\n",
      "\n",
      "    accuracy                           0.90    555300\n",
      "   macro avg       0.89      0.78      0.82    555300\n",
      "weighted avg       0.89      0.90      0.89    555300\n",
      "\n",
      "-------------------------------------------------------------------------------------------------\n",
      "\n",
      " Confusion Matrix :- \n",
      "[[429214   9687]\n",
      " [ 48275  68124]]\n"
     ]
    }
   ],
   "source": [
    "print(\"KNN  Classifier Train Accuracy : {} %\".format(knn_classifier.score(X_train, \n",
    "                                                                                   y_train)*100))\n",
    "print(\"\\nKNN  Classifier Test Accuracy : {} %\".format(sklearn.metrics.accuracy_score(y_test, \n",
    "                                                                                 y_pred_knn)*100))\n",
    "print(\"-------------------------------------------------------------------------------------------------\")\n",
    "print(\"\\nClassification Report : \\n {}\".format(sklearn.metrics.classification_report(y_test, \n",
    "                                                                                     y_pred_knn)))\n",
    "print(\"-------------------------------------------------------------------------------------------------\")\n",
    "print(\"\\n Confusion Matrix :- \\n{}\".format(sklearn.metrics.confusion_matrix(y_test, \n",
    "                                                                            y_pred_knn)))"
   ]
  },
  {
   "cell_type": "markdown",
   "metadata": {},
   "source": [
    "## Logistic Regression\n",
    "Logistic regression is a statistical model that in its basic form uses a logistic function to model a binary dependent variable, although many more complex extensions exist. In regression analysis, logistic regression (or logit regression) is estimating the parameters of a logistic model (a form of binary regression)"
   ]
  },
  {
   "cell_type": "code",
   "execution_count": 14,
   "metadata": {},
   "outputs": [],
   "source": [
    "from sklearn.linear_model import LogisticRegression"
   ]
  },
  {
   "cell_type": "code",
   "execution_count": 12,
   "metadata": {
    "scrolled": false
   },
   "outputs": [],
   "source": [
    "logistic_model = LogisticRegression(max_iter=500000)\n",
    "logistic_classifier_SMOTE = logistic_model.fit(X_train_SMOTE, y_train_SMOTE)"
   ]
  },
  {
   "cell_type": "code",
   "execution_count": 21,
   "metadata": {},
   "outputs": [
    {
     "name": "stdout",
     "output_type": "stream",
     "text": [
      "Logistic regression Train Accuracy : 86.30130164827278 %\n",
      "\n",
      "Logistic regression Test Accuracy : 89.46982684107411 %\n",
      "-------------------------------------------------------------------------------------------------\n",
      "\n",
      "Classification Report : \n",
      "               precision    recall  f1-score   support\n",
      "\n",
      "         0.0       0.94      0.93      0.93    438928\n",
      "         1.0       0.74      0.78      0.76    116400\n",
      "\n",
      "    accuracy                           0.89    555328\n",
      "   macro avg       0.84      0.85      0.84    555328\n",
      "weighted avg       0.90      0.89      0.90    555328\n",
      "\n",
      "-------------------------------------------------------------------------------------------------\n",
      "\n",
      " Confusion Matrix :- \n",
      "[[406420  32508]\n",
      " [ 25969  90431]]\n"
     ]
    }
   ],
   "source": [
    "y_pred_logistic_SMOTE = logistic_model.predict(X_test)\n",
    "print(\"Logistic regression Train Accuracy : {} %\".format(logistic_classifier_SMOTE.score(X_train_SMOTE,\n",
    "                                                                                         y_train_SMOTE)*100))\n",
    "print(\"\\nLogistic regression Test Accuracy : {} %\".format(sklearn.metrics.accuracy_score(y_test, \n",
    "                                                                                 y_pred_logistic_SMOTE)*100))\n",
    "print(\"-------------------------------------------------------------------------------------------------\")\n",
    "print(\"\\nClassification Report : \\n {}\".format(sklearn.metrics.classification_report(y_test, \n",
    "                                                                                     y_pred_logistic_SMOTE)))\n",
    "print(\"-------------------------------------------------------------------------------------------------\")\n",
    "print(\"\\n Confusion Matrix :- \\n{}\".format(sklearn.metrics.confusion_matrix(y_test, y_pred_logistic_SMOTE)))"
   ]
  },
  {
   "cell_type": "markdown",
   "metadata": {},
   "source": [
    "## Random Forest\n",
    "Random forests or random decision forests are an ensemble learning method for classification, regression and other tasks that operate by constructing a multitude of decision trees at training time and outputting the class that is the mode of the classes or mean prediction of the individual trees."
   ]
  },
  {
   "cell_type": "code",
   "execution_count": 22,
   "metadata": {},
   "outputs": [],
   "source": [
    "from sklearn.ensemble import RandomForestClassifier"
   ]
  },
  {
   "cell_type": "code",
   "execution_count": null,
   "metadata": {},
   "outputs": [],
   "source": [
    "random_forest_model = RandomForestClassifier()\n",
    "random_forest_classifier_SMOTE = random_forest_model.fit(X_train_SMOTE,y_train_SMOTE)"
   ]
  },
  {
   "cell_type": "code",
   "execution_count": 24,
   "metadata": {},
   "outputs": [
    {
     "name": "stdout",
     "output_type": "stream",
     "text": [
      "Random Forest Clasifier Train Accuracy : 99.99897477257038 %\n",
      "\n",
      "Random Forest Clasifier Test Accuracy : 91.48341160539357 %\n",
      "-------------------------------------------------------------------------------------------------\n",
      "\n",
      "Classification Report : \n",
      "               precision    recall  f1-score   support\n",
      "\n",
      "         0.0       0.93      0.96      0.95    438928\n",
      "         1.0       0.84      0.74      0.78    116400\n",
      "\n",
      "    accuracy                           0.91    555328\n",
      "   macro avg       0.88      0.85      0.87    555328\n",
      "weighted avg       0.91      0.91      0.91    555328\n",
      "\n",
      "-------------------------------------------------------------------------------------------------\n",
      "\n",
      " Confusion Matrix :- \n",
      "[[422164  16764]\n",
      " [ 30531  85869]]\n"
     ]
    }
   ],
   "source": [
    "y_pred_randomforest_SMOTE = random_forest_model.predict(X_test)\n",
    "print(\"Random Forest Clasifier Train Accuracy : {} %\".format(random_forest_classifier_SMOTE.score(X_train_SMOTE, \n",
    "                                                                                                  y_train_SMOTE)*100))\n",
    "print(\"\\nRandom Forest Clasifier Test Accuracy : {} %\".format(sklearn.metrics.accuracy_score(y_test, \n",
    "                                                                                     y_pred_randomforest_SMOTE)*100))\n",
    "print(\"-------------------------------------------------------------------------------------------------\")\n",
    "print(\"\\nClassification Report : \\n {}\".format(sklearn.metrics.classification_report(y_test, \n",
    "                                                                                     y_pred_randomforest_SMOTE)))\n",
    "print(\"-------------------------------------------------------------------------------------------------\")\n",
    "print(\"\\n Confusion Matrix :- \\n{}\".format(sklearn.metrics.confusion_matrix(y_test, \n",
    "                                                                            y_pred_randomforest_SMOTE)))"
   ]
  },
  {
   "cell_type": "markdown",
   "metadata": {},
   "source": [
    "## Decision trees Classifier\n",
    "The decision tree classifier creates the classification model by building a decision tree. Each node in the tree specifies a test on an attribute, each branch descending from that node corresponds to one of the possible values for that attribute."
   ]
  },
  {
   "cell_type": "code",
   "execution_count": 30,
   "metadata": {},
   "outputs": [],
   "source": [
    "from sklearn.tree import DecisionTreeClassifier\n",
    "decision_trees_model = DecisionTreeClassifier()\n",
    "decision_trees_classifier_SMOTE = decision_trees_model.fit(X_train_SMOTE, y_train_SMOTE)"
   ]
  },
  {
   "cell_type": "code",
   "execution_count": 34,
   "metadata": {},
   "outputs": [
    {
     "name": "stdout",
     "output_type": "stream",
     "text": [
      "Decision Trees Clasifier Train Accuracy : 99.99984565078644 %\n",
      "\n",
      "Decision Trees Clasifier Test Accuracy : 86.2148135876455 %\n",
      "-------------------------------------------------------------------------------------------------\n",
      "\n",
      "Classification Report : \n",
      "               precision    recall  f1-score   support\n",
      "\n",
      "         0.0       0.92      0.90      0.91    438928\n",
      "         1.0       0.66      0.71      0.68    116400\n",
      "\n",
      "    accuracy                           0.86    555328\n",
      "   macro avg       0.79      0.80      0.80    555328\n",
      "weighted avg       0.87      0.86      0.86    555328\n",
      "\n",
      "-------------------------------------------------------------------------------------------------\n",
      "\n",
      " Confusion Matrix :- \n",
      "[[396682  42246]\n",
      " [ 34307  82093]]\n"
     ]
    }
   ],
   "source": [
    "y_pred_decisiontrees_SMOTE = decision_trees_model.predict(X_test)\n",
    "print(\"Decision Trees Clasifier Train Accuracy : {} %\".format(decision_trees_classifier_SMOTE.score(X_train,\n",
    "                                                                                                    y_train)*100))\n",
    "print(\"\\nDecision Trees Clasifier Test Accuracy : {} %\".format(sklearn.metrics.accuracy_score(y_test,\n",
    "                                                                                      y_pred_decisiontrees_SMOTE)*100))\n",
    "print(\"-------------------------------------------------------------------------------------------------\")\n",
    "print(\"\\nClassification Report : \\n {}\".format(sklearn.metrics.classification_report(y_test, \n",
    "                                                                                     y_pred_decisiontrees_SMOTE)))\n",
    "print(\"-------------------------------------------------------------------------------------------------\")\n",
    "print(\"\\n Confusion Matrix :- \\n{}\".format(sklearn.metrics.confusion_matrix(y_test, \n",
    "                                                                            y_pred_decisiontrees_SMOTE)))"
   ]
  },
  {
   "cell_type": "markdown",
   "metadata": {},
   "source": [
    "## XGBoost Classifier\n",
    "XGBoost is a decision-tree-based ensemble Machine Learning algorithm that uses a gradient boosting framework"
   ]
  },
  {
   "cell_type": "code",
   "execution_count": 35,
   "metadata": {},
   "outputs": [],
   "source": [
    "from xgboost import XGBClassifier\n",
    "xgboost_model = XGBClassifier()\n",
    "xgboost_classifier_SMOTE = xgboost_model.fit(X_train_SMOTE, y_train_SMOTE)"
   ]
  },
  {
   "cell_type": "code",
   "execution_count": 36,
   "metadata": {},
   "outputs": [
    {
     "name": "stdout",
     "output_type": "stream",
     "text": [
      "XGBoost Clasifier Train Accuracy : 93.86591782753331 %\n",
      "\n",
      "XGBoost Clasifier Test Accuracy : 91.73875619453729 %\n",
      "-------------------------------------------------------------------------------------------------\n",
      "\n",
      "Classification Report : \n",
      "               precision    recall  f1-score   support\n",
      "\n",
      "         0.0       0.93      0.97      0.95    438928\n",
      "         1.0       0.87      0.71      0.78    116400\n",
      "\n",
      "    accuracy                           0.92    555328\n",
      "   macro avg       0.90      0.84      0.87    555328\n",
      "weighted avg       0.92      0.92      0.91    555328\n",
      "\n",
      "-------------------------------------------------------------------------------------------------\n",
      "\n",
      " Confusion Matrix :- \n",
      "[[427151  11777]\n",
      " [ 34100  82300]]\n"
     ]
    }
   ],
   "source": [
    "y_pred_xgboost_SMOTE = xgboost_model.predict(X_test)\n",
    "print(\"XGBoost Clasifier Train Accuracy : {} %\".format(xgboost_classifier_SMOTE.score(X_train_SMOTE, \n",
    "                                                                                           y_train_SMOTE)*100))\n",
    "print(\"\\nXGBoost Clasifier Test Accuracy : {} %\".format(sklearn.metrics.accuracy_score(y_test, \n",
    "                                                                                              y_pred_xgboost_SMOTE)*100))\n",
    "print(\"-------------------------------------------------------------------------------------------------\")\n",
    "print(\"\\nClassification Report : \\n {}\".format(sklearn.metrics.classification_report(y_test, \n",
    "                                                                                     y_pred_xgboost_SMOTE)))\n",
    "print(\"-------------------------------------------------------------------------------------------------\")\n",
    "print(\"\\n Confusion Matrix :- \\n{}\".format(sklearn.metrics.confusion_matrix(y_test, \n",
    "                                                                            y_pred_xgboost_SMOTE)))"
   ]
  },
  {
   "cell_type": "markdown",
   "metadata": {},
   "source": [
    " "
   ]
  },
  {
   "cell_type": "markdown",
   "metadata": {},
   "source": [
    " "
   ]
  },
  {
   "cell_type": "markdown",
   "metadata": {},
   "source": [
    " "
   ]
  },
  {
   "cell_type": "markdown",
   "metadata": {},
   "source": [
    " "
   ]
  },
  {
   "cell_type": "markdown",
   "metadata": {},
   "source": [
    " "
   ]
  },
  {
   "cell_type": "markdown",
   "metadata": {},
   "source": [
    "## Considering Random Undersampling"
   ]
  },
  {
   "cell_type": "code",
   "execution_count": 22,
   "metadata": {},
   "outputs": [
    {
     "name": "stdout",
     "output_type": "stream",
     "text": [
      "Original Number of values: \n",
      "0.0    1024100\n",
      "1.0     271598\n",
      "Name: ArrDel15, dtype: int64\n"
     ]
    }
   ],
   "source": [
    "# Looking at the original value counts\n",
    "print(\"Original Number of values: \\n{}\".format(y_train.value_counts()))"
   ]
  },
  {
   "cell_type": "code",
   "execution_count": 23,
   "metadata": {
    "scrolled": true
   },
   "outputs": [
    {
     "name": "stdout",
     "output_type": "stream",
     "text": [
      "Values after Random Under Sampling: \n",
      "0.0    271598\n",
      "1.0    271598\n",
      "Name: ArrDel15, dtype: int64\n"
     ]
    }
   ],
   "source": [
    "from imblearn.under_sampling import RandomUnderSampler\n",
    "random_under_sampler = RandomUnderSampler(random_state = 285)\n",
    "X_train_RUS, y_train_RUS = random_under_sampler.fit_resample(X_train,y_train)\n",
    "print(\"Values after Random Under Sampling: \\n{}\".format(y_train_RUS.value_counts()))"
   ]
  },
  {
   "cell_type": "markdown",
   "metadata": {},
   "source": [
    "## KNeighbors Classifier\n"
   ]
  },
  {
   "cell_type": "code",
   "execution_count": 24,
   "metadata": {},
   "outputs": [],
   "source": [
    "from sklearn.neighbors import KNeighborsClassifier"
   ]
  },
  {
   "cell_type": "code",
   "execution_count": 25,
   "metadata": {},
   "outputs": [],
   "source": [
    "knn = KNeighborsClassifier()\n",
    "knn_classifier = knn.fit(X_train, y_train)"
   ]
  },
  {
   "cell_type": "code",
   "execution_count": 26,
   "metadata": {},
   "outputs": [],
   "source": [
    "y_pred_knn = knn.predict(X_test)"
   ]
  },
  {
   "cell_type": "code",
   "execution_count": 27,
   "metadata": {},
   "outputs": [
    {
     "name": "stdout",
     "output_type": "stream",
     "text": [
      "KNN  Classifier Train Accuracy : 91.73935593016273 %\n",
      "\n",
      "KNN  Classifier Test Accuracy : 89.56203853772735 %\n",
      "-------------------------------------------------------------------------------------------------\n",
      "\n",
      "Classification Report : \n",
      "               precision    recall  f1-score   support\n",
      "\n",
      "         0.0       0.90      0.98      0.94    438901\n",
      "         1.0       0.88      0.59      0.70    116399\n",
      "\n",
      "    accuracy                           0.90    555300\n",
      "   macro avg       0.89      0.78      0.82    555300\n",
      "weighted avg       0.89      0.90      0.89    555300\n",
      "\n",
      "-------------------------------------------------------------------------------------------------\n",
      "\n",
      " Confusion Matrix :- \n",
      "[[429214   9687]\n",
      " [ 48275  68124]]\n"
     ]
    }
   ],
   "source": [
    "print(\"KNN  Classifier Train Accuracy : {} %\".format(knn_classifier.score(X_train, \n",
    "                                                                                   y_train)*100))\n",
    "print(\"\\nKNN  Classifier Test Accuracy : {} %\".format(sklearn.metrics.accuracy_score(y_test, \n",
    "                                                                                 y_pred_knn)*100))\n",
    "print(\"-------------------------------------------------------------------------------------------------\")\n",
    "print(\"\\nClassification Report : \\n {}\".format(sklearn.metrics.classification_report(y_test, \n",
    "                                                                                     y_pred_knn)))\n",
    "print(\"-------------------------------------------------------------------------------------------------\")\n",
    "print(\"\\n Confusion Matrix :- \\n{}\".format(sklearn.metrics.confusion_matrix(y_test, \n",
    "                                                                            y_pred_knn)))"
   ]
  },
  {
   "cell_type": "markdown",
   "metadata": {},
   "source": [
    "## Logistic Regression\n",
    "Logistic regression is a statistical model that in its basic form uses a logistic function to model a binary dependent variable, although many more complex extensions exist. In regression analysis, logistic regression (or logit regression) is estimating the parameters of a logistic model (a form of binary regression)"
   ]
  },
  {
   "cell_type": "code",
   "execution_count": 39,
   "metadata": {},
   "outputs": [],
   "source": [
    "from sklearn.linear_model import LogisticRegression"
   ]
  },
  {
   "cell_type": "code",
   "execution_count": 40,
   "metadata": {},
   "outputs": [],
   "source": [
    "logistic_model = LogisticRegression(max_iter=500000)\n",
    "logistic_classifier_RUS = logistic_model.fit(X_train_RUS, y_train_RUS)"
   ]
  },
  {
   "cell_type": "code",
   "execution_count": 41,
   "metadata": {},
   "outputs": [
    {
     "name": "stdout",
     "output_type": "stream",
     "text": [
      "Logistic regression Train Accuracy : 85.30983063328425 %\n",
      "\n",
      "Logistic regression Test Accuracy : 89.5933574392071 %\n",
      "-------------------------------------------------------------------------------------------------\n",
      "\n",
      "Classification Report : \n",
      "               precision    recall  f1-score   support\n",
      "\n",
      "         0.0       0.94      0.93      0.93    438928\n",
      "         1.0       0.74      0.78      0.76    116400\n",
      "\n",
      "    accuracy                           0.90    555328\n",
      "   macro avg       0.84      0.85      0.85    555328\n",
      "weighted avg       0.90      0.90      0.90    555328\n",
      "\n",
      "-------------------------------------------------------------------------------------------------\n",
      "\n",
      " Confusion Matrix :- \n",
      "[[406752  32176]\n",
      " [ 25615  90785]]\n"
     ]
    }
   ],
   "source": [
    "y_pred_logistic_RUS = logistic_model.predict(X_test)\n",
    "print(\"Logistic regression Train Accuracy : {} %\".format(logistic_classifier_RUS.score(X_train_RUS, \n",
    "                                                                                   y_train_RUS)*100))\n",
    "print(\"\\nLogistic regression Test Accuracy : {} %\".format(sklearn.metrics.accuracy_score(y_test, \n",
    "                                                                                 y_pred_logistic_RUS)*100))\n",
    "print(\"-------------------------------------------------------------------------------------------------\")\n",
    "print(\"\\nClassification Report : \\n {}\".format(sklearn.metrics.classification_report(y_test, \n",
    "                                                                                     y_pred_logistic_RUS)))\n",
    "print(\"-------------------------------------------------------------------------------------------------\")\n",
    "print(\"\\n Confusion Matrix :- \\n{}\".format(sklearn.metrics.confusion_matrix(y_test, \n",
    "                                                                            y_pred_logistic_RUS)))"
   ]
  },
  {
   "cell_type": "markdown",
   "metadata": {},
   "source": [
    "## Random Forest\n",
    "Random forests or random decision forests are an ensemble learning method for classification, regression and other tasks that operate by constructing a multitude of decision trees at training time and outputting the class that is the mode of the classes or mean prediction of the individual trees."
   ]
  },
  {
   "cell_type": "code",
   "execution_count": 42,
   "metadata": {},
   "outputs": [],
   "source": [
    "from sklearn.ensemble import RandomForestClassifier"
   ]
  },
  {
   "cell_type": "code",
   "execution_count": 43,
   "metadata": {},
   "outputs": [],
   "source": [
    "random_forest_model = RandomForestClassifier()\n",
    "random_forest_classifier_RUS = random_forest_model.fit(X_train_RUS, y_train_RUS)"
   ]
  },
  {
   "cell_type": "code",
   "execution_count": 44,
   "metadata": {},
   "outputs": [
    {
     "name": "stdout",
     "output_type": "stream",
     "text": [
      "Random Forest Clasifier Train Accuracy : 99.99871134020619 %\n",
      "\n",
      "Random Forest Clasifier Test Accuracy : 89.23122911144404 %\n",
      "-------------------------------------------------------------------------------------------------\n",
      "\n",
      "Classification Report : \n",
      "               precision    recall  f1-score   support\n",
      "\n",
      "         0.0       0.95      0.91      0.93    438928\n",
      "         1.0       0.71      0.81      0.76    116400\n",
      "\n",
      "    accuracy                           0.89    555328\n",
      "   macro avg       0.83      0.86      0.85    555328\n",
      "weighted avg       0.90      0.89      0.89    555328\n",
      "\n",
      "-------------------------------------------------------------------------------------------------\n",
      "\n",
      " Confusion Matrix :- \n",
      "[[401096  37832]\n",
      " [ 21970  94430]]\n"
     ]
    }
   ],
   "source": [
    "y_pred_randomforest_RUS = random_forest_model.predict(X_test)\n",
    "print(\"Random Forest Clasifier Train Accuracy : {} %\".format(random_forest_classifier_RUS.score(X_train_RUS,\n",
    "                                                                                            y_train_RUS)*100))\n",
    "print(\"\\nRandom Forest Clasifier Test Accuracy : {} %\".format(sklearn.metrics.accuracy_score(y_test, \n",
    "                                                                                     y_pred_randomforest_RUS)*100))\n",
    "print(\"-------------------------------------------------------------------------------------------------\")\n",
    "print(\"\\nClassification Report : \\n {}\".format(sklearn.metrics.classification_report(y_test, \n",
    "                                                                                     y_pred_randomforest_RUS)))\n",
    "print(\"-------------------------------------------------------------------------------------------------\")\n",
    "print(\"\\n Confusion Matrix :- \\n{}\".format(sklearn.metrics.confusion_matrix(y_test, \n",
    "                                                                            y_pred_randomforest_RUS)))"
   ]
  },
  {
   "cell_type": "markdown",
   "metadata": {},
   "source": [
    "## Decision trees Classifier\n",
    "The decision tree classifier creates the classification model by building a decision tree. Each node in the tree specifies a test on an attribute, each branch descending from that node corresponds to one of the possible values for that attribute."
   ]
  },
  {
   "cell_type": "code",
   "execution_count": 51,
   "metadata": {},
   "outputs": [],
   "source": [
    "from sklearn.tree import DecisionTreeClassifier"
   ]
  },
  {
   "cell_type": "code",
   "execution_count": 52,
   "metadata": {},
   "outputs": [],
   "source": [
    "decision_trees_model = DecisionTreeClassifier()\n",
    "decision_trees_classifier_RUS = decision_trees_model.fit(X_train_RUS, y_train_RUS)"
   ]
  },
  {
   "cell_type": "code",
   "execution_count": 70,
   "metadata": {},
   "outputs": [
    {
     "name": "stdout",
     "output_type": "stream",
     "text": [
      "Decision Trees Clasifier Train Accuracy : 99.99981585489365 %\n",
      "\n",
      "Decision Trees Clasifier Test Accuracy : 79.10102647217721 %\n",
      "-------------------------------------------------------------------------------------------------\n",
      "\n",
      "Classification Report : \n",
      "               precision    recall  f1-score   support\n",
      "\n",
      "         0.0       0.94      0.79      0.86    438828\n",
      "         1.0       0.50      0.80      0.62    116472\n",
      "\n",
      "    accuracy                           0.79    555300\n",
      "   macro avg       0.72      0.79      0.74    555300\n",
      "weighted avg       0.85      0.79      0.81    555300\n",
      "\n",
      "-------------------------------------------------------------------------------------------------\n",
      "\n",
      " Confusion Matrix :- \n",
      "[[346001  92827]\n",
      " [ 23225  93247]]\n"
     ]
    }
   ],
   "source": [
    "y_pred_decisiontrees_RUS = decision_trees_model.predict(X_test)\n",
    "print(\"Decision Trees Clasifier Train Accuracy : {} %\".format(decision_trees_classifier_RUS.score(X_train_RUS,\n",
    "                                                                                           y_train_RUS)*100))\n",
    "print(\"\\nDecision Trees Clasifier Test Accuracy : {} %\".format(sklearn.metrics.accuracy_score(y_test,\n",
    "                                                                                      y_pred_decisiontrees_RUS)*100))\n",
    "print(\"-------------------------------------------------------------------------------------------------\")\n",
    "print(\"\\nClassification Report : \\n {}\".format(sklearn.metrics.classification_report(y_test, \n",
    "                                                                                     y_pred_decisiontrees_RUS)))\n",
    "print(\"-------------------------------------------------------------------------------------------------\")\n",
    "print(\"\\n Confusion Matrix :- \\n{}\".format(sklearn.metrics.confusion_matrix(y_test, \n",
    "                                                                            y_pred_decisiontrees_RUS)))"
   ]
  },
  {
   "cell_type": "markdown",
   "metadata": {},
   "source": [
    "### XGBoost Classifier\n",
    "XGBoost is a decision-tree-based ensemble Machine Learning algorithm that uses a gradient boosting framework"
   ]
  },
  {
   "cell_type": "code",
   "execution_count": 57,
   "metadata": {},
   "outputs": [],
   "source": [
    "from xgboost import XGBClassifier\n",
    "xgboost_model = XGBClassifier()\n",
    "xgboost_classifier_RUS = xgboost_model.fit(X_train_RUS, y_train_RUS)"
   ]
  },
  {
   "cell_type": "code",
   "execution_count": 58,
   "metadata": {
    "scrolled": true
   },
   "outputs": [
    {
     "name": "stdout",
     "output_type": "stream",
     "text": [
      "XGBoost Clasifier Train Accuracy : 86.67268041237114 %\n",
      "\n",
      "XGBoost Clasifier Test Accuracy : 89.52222830471361 %\n",
      "-------------------------------------------------------------------------------------------------\n",
      "\n",
      "Classification Report : \n",
      "               precision    recall  f1-score   support\n",
      "\n",
      "         0.0       0.95      0.92      0.93    438928\n",
      "         1.0       0.73      0.80      0.76    116400\n",
      "\n",
      "    accuracy                           0.90    555328\n",
      "   macro avg       0.84      0.86      0.85    555328\n",
      "weighted avg       0.90      0.90      0.90    555328\n",
      "\n",
      "-------------------------------------------------------------------------------------------------\n",
      "\n",
      " Confusion Matrix :- \n",
      "[[403805  35123]\n",
      " [ 23063  93337]]\n"
     ]
    }
   ],
   "source": [
    "y_pred_xgboost_RUS = xgboost_model.predict(X_test)\n",
    "print(\"XGBoost Clasifier Train Accuracy : {} %\".format(xgboost_classifier_RUS.score(X_train_RUS, \n",
    "                                                                                           y_train_RUS)*100))\n",
    "print(\"\\nXGBoost Clasifier Test Accuracy : {} %\".format(sklearn.metrics.accuracy_score(y_test, \n",
    "                                                                                              y_pred_xgboost_RUS)*100))\n",
    "print(\"-------------------------------------------------------------------------------------------------\")\n",
    "print(\"\\nClassification Report : \\n {}\".format(sklearn.metrics.classification_report(y_test, \n",
    "                                                                                     y_pred_xgboost_RUS)))\n",
    "print(\"-------------------------------------------------------------------------------------------------\")\n",
    "print(\"\\n Confusion Matrix :- \\n{}\".format(sklearn.metrics.confusion_matrix(y_test, \n",
    "                                                                            y_pred_xgboost_RUS)))"
   ]
  },
  {
   "cell_type": "markdown",
   "metadata": {},
   "source": [
    " "
   ]
  },
  {
   "cell_type": "markdown",
   "metadata": {},
   "source": [
    "\n"
   ]
  },
  {
   "cell_type": "markdown",
   "metadata": {},
   "source": [
    " "
   ]
  },
  {
   "cell_type": "markdown",
   "metadata": {},
   "source": [
    " \n",
    " "
   ]
  },
  {
   "cell_type": "markdown",
   "metadata": {},
   "source": [
    " \n",
    " "
   ]
  },
  {
   "cell_type": "markdown",
   "metadata": {},
   "source": [
    "## Results for Class 0 (Arrived on Time) Unsampled Data\n",
    "\n",
    "|MODEL                    |Precision | Recall | f1 Score|\n",
    "|-------------------------|----------|--------|---------|\n",
    "| ``KNeighborsClassifier``| 0.90     | 0.98   |0.94     |\n",
    "| ``Logistic Regression`` | 0.92     | 0.98   |0.95     |\n",
    "| ``Random Forest``       | 0.92     | 0.98   |0.95     |\n",
    "| ``Decision Trees``      | 0.92     | 0.91   |0.92     |\n",
    "| ``XGBoost``             | 0.92     | 0.98   |0.95     |\n",
    "\n",
    "              \n",
    "## Results for Class 1 (Arrived Late) Unsampled Data\n",
    "\n",
    "|MODEL                    |Precision | Recall | f1 Score|\n",
    "|-------------------------|----------|--------|---------|\n",
    "| ``KNeighborsClassifier``| 0.88     | 0.59   |0.70     |\n",
    "| ``Logistic Regression`` | 0.89     | 0.68   |0.77     |\n",
    "| ``Random Forest``       | 0.89     | 0.70   |0.78     |\n",
    "| ``Decision Trees``      | 0.68     | 0.70   |0.69     |\n",
    "| ``XGBoost``             | 0.90     | 0.70   |0.78     |\n",
    "\n"
   ]
  },
  {
   "cell_type": "markdown",
   "metadata": {},
   "source": [
    "## Results for Class 0 (Arrived on Time) for Over-sampled Data\n",
    "\n",
    "|MODEL                    |Precision | Recall | f1 Score|\n",
    "|-------------------------|----------|--------|---------|\n",
    "| ``KNeighborsClassifier``| 0.90     | 0.98   |0.94     |\n",
    "| ``Logistic Regression`` | 0.94     | 0.93   |0.93     |\n",
    "| ``Random Forest``       | 0.93     | 0.96   |0.95     |\n",
    "| ``Decision Trees``      | 0.92     | 0.90   |0.91     |\n",
    "| ``XGBoost``             | 0.92     | 0.98   |0.95     |\n",
    "\n",
    "              \n",
    "## Results for Class 1 (Arrived Late) for Over-sampled Data\n",
    "\n",
    "|MODEL                    |Precision | Recall | f1 Score|\n",
    "|-------------------------|----------|--------|---------|\n",
    "| ``KNeighborsClassifier``| 0.88     | 0.59   |0.94     |\n",
    "| ``Logistic Regression`` | 0.74     | 0.78   |0.76     |\n",
    "| ``Random Forest``       | 0.84     | 0.74   |0.78     |\n",
    "| ``Decision Trees``      | 0.66     | 0.71   |0.68     |\n",
    "| ``XGBoost``             | 0.90     | 0.70   |0.78     |"
   ]
  },
  {
   "cell_type": "markdown",
   "metadata": {},
   "source": [
    "## Results for Class 0 (Arrived on Time) for Under-sampled Data\n",
    "\n",
    "|MODEL                    |Precision | Recall | f1 Score|\n",
    "|-------------------------|----------|--------|---------|\n",
    "| ``KNeighborsClassifier``| 0.90     | 0.98   |0.94     |\n",
    "| ``Logistic Regression`` | 0.94     | 0.93   |0.93     |\n",
    "| ``Random Forest``       | 0.95     | 0.91   |0.93     |\n",
    "| ``Decision Trees``      | 0.94     | 0.79   |0.86     |\n",
    "| ``XGBoost``             | 0.95     | 0.92   |0.93     |\n",
    "\n",
    "              \n",
    "## Results for Class 1 (Arrived Late) for Under-sampled Data\n",
    "\n",
    "|MODEL                    |Precision | Recall | f1 Score|\n",
    "|-------------------------|----------|--------|---------|\n",
    "| ``KNeighborsClassifier``| 0.88     | 0.59   |0.70     |\n",
    "| ``Logistic Regression`` | 0.74     | 0.78   |0.76     |\n",
    "| ``Random Forest``       | 0.72     | 0.81   |0.76     |\n",
    "| ``Decision Trees``      | 0.50     | 0.80   |0.62     |\n",
    "| ``XGBoost``             | 0.73     | 0.80   |0.76     |"
   ]
  }
 ],
 "metadata": {
  "kernelspec": {
   "display_name": "Python 3 (ipykernel)",
   "language": "python",
   "name": "python3"
  },
  "language_info": {
   "codemirror_mode": {
    "name": "ipython",
    "version": 3
   },
   "file_extension": ".py",
   "mimetype": "text/x-python",
   "name": "python",
   "nbconvert_exporter": "python",
   "pygments_lexer": "ipython3",
   "version": "3.9.12"
  }
 },
 "nbformat": 4,
 "nbformat_minor": 4
}
